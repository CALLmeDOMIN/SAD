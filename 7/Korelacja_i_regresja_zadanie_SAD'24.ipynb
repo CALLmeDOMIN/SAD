{
  "cells": [
    {
      "cell_type": "markdown",
      "id": "9586fde2",
      "metadata": {
        "id": "9586fde2"
      },
      "source": [
        "# Korelacja i regresja - zadanie"
      ]
    },
    {
      "cell_type": "markdown",
      "id": "c992421a",
      "metadata": {
        "id": "c992421a"
      },
      "source": [
        "Zbiór danych **cars.sta** zawiera wyniki pewnych testów drogowych samochodów.\n",
        "Zmienne:\n",
        "- mpg: Liczba mil, jakie samochód może przejechać na jednym galonie paliwa. Oznacza \"Miles Per Gallon\" (mile na galon).\n",
        "- cylinders: Liczba cylindrów w silniku.\n",
        "- displacement: Pojemność skokowa silnika, mierzona w calach sześciennych (cu.in.).\n",
        "- horsepower: Moc silnika, wyrażona w koniach mechanicznych.\n",
        "- weight: Waga samochodu, podana w setkach funtów (1000 lbs).\n",
        "- acceleration: Przyśpieszenie pojazdu.\n",
        "- model: Rok pojazdu.\n",
        "- origin: Pochodzenie pojazdu - reprezentuje kod kraju.\n",
        "- car: Nazwa samochodu.\n",
        "\n"
      ]
    },
    {
      "cell_type": "markdown",
      "id": "9106b24a",
      "metadata": {
        "id": "9106b24a"
      },
      "source": [
        "## Wczytywanie danych\n",
        "Wczytaj jako ramka danych plik \"cars2.csv\", a nastepnie:\n",
        "- wyświetl kilka pierwszych wierszy\n",
        "- wyświetl strukturę ramki danych\n",
        "- wyświetl rozmiar ramki danych\n"
      ]
    },
    {
      "cell_type": "code",
      "execution_count": 6,
      "id": "6xkdou1Pvb3Y",
      "metadata": {
        "id": "6xkdou1Pvb3Y",
        "vscode": {
          "languageId": "r"
        }
      },
      "outputs": [
        {
          "data": {
            "text/html": [
              "<table class=\"dataframe\">\n",
              "<caption>A data.frame: 6 × 9</caption>\n",
              "<thead>\n",
              "\t<tr><th></th><th scope=col>mpg</th><th scope=col>cylinders</th><th scope=col>displacement</th><th scope=col>horsepower</th><th scope=col>weight</th><th scope=col>acceleration</th><th scope=col>model</th><th scope=col>origin</th><th scope=col>car</th></tr>\n",
              "\t<tr><th></th><th scope=col>&lt;dbl&gt;</th><th scope=col>&lt;int&gt;</th><th scope=col>&lt;int&gt;</th><th scope=col>&lt;int&gt;</th><th scope=col>&lt;int&gt;</th><th scope=col>&lt;dbl&gt;</th><th scope=col>&lt;int&gt;</th><th scope=col>&lt;int&gt;</th><th scope=col>&lt;fct&gt;</th></tr>\n",
              "</thead>\n",
              "<tbody>\n",
              "\t<tr><th scope=row>1</th><td>33.0</td><td>4</td><td> 91</td><td>32</td><td>1795</td><td>17.4</td><td>76</td><td>3</td><td>honda civic       </td></tr>\n",
              "\t<tr><th scope=row>2</th><td>20.0</td><td>6</td><td>225</td><td> 2</td><td>3651</td><td>17.7</td><td>76</td><td>1</td><td>dodge aspen se    </td></tr>\n",
              "\t<tr><th scope=row>3</th><td>18.0</td><td>6</td><td>250</td><td>50</td><td>3574</td><td>21.0</td><td>76</td><td>1</td><td>ford granada ghia </td></tr>\n",
              "\t<tr><th scope=row>4</th><td>18.5</td><td>6</td><td>250</td><td> 7</td><td>3645</td><td>16.2</td><td>76</td><td>1</td><td>pontiac ventura sj</td></tr>\n",
              "\t<tr><th scope=row>5</th><td>17.5</td><td>6</td><td>258</td><td>62</td><td>3193</td><td>17.8</td><td>76</td><td>1</td><td>amc pacer d/l     </td></tr>\n",
              "\t<tr><th scope=row>6</th><td>29.5</td><td>4</td><td> 97</td><td>44</td><td>1825</td><td>12.2</td><td>76</td><td>2</td><td>volkswagen rabbit </td></tr>\n",
              "</tbody>\n",
              "</table>\n"
            ],
            "text/latex": [
              "A data.frame: 6 × 9\n",
              "\\begin{tabular}{r|lllllllll}\n",
              "  & mpg & cylinders & displacement & horsepower & weight & acceleration & model & origin & car\\\\\n",
              "  & <dbl> & <int> & <int> & <int> & <int> & <dbl> & <int> & <int> & <fct>\\\\\n",
              "\\hline\n",
              "\t1 & 33.0 & 4 &  91 & 32 & 1795 & 17.4 & 76 & 3 & honda civic       \\\\\n",
              "\t2 & 20.0 & 6 & 225 &  2 & 3651 & 17.7 & 76 & 1 & dodge aspen se    \\\\\n",
              "\t3 & 18.0 & 6 & 250 & 50 & 3574 & 21.0 & 76 & 1 & ford granada ghia \\\\\n",
              "\t4 & 18.5 & 6 & 250 &  7 & 3645 & 16.2 & 76 & 1 & pontiac ventura sj\\\\\n",
              "\t5 & 17.5 & 6 & 258 & 62 & 3193 & 17.8 & 76 & 1 & amc pacer d/l     \\\\\n",
              "\t6 & 29.5 & 4 &  97 & 44 & 1825 & 12.2 & 76 & 2 & volkswagen rabbit \\\\\n",
              "\\end{tabular}\n"
            ],
            "text/markdown": [
              "\n",
              "A data.frame: 6 × 9\n",
              "\n",
              "| <!--/--> | mpg &lt;dbl&gt; | cylinders &lt;int&gt; | displacement &lt;int&gt; | horsepower &lt;int&gt; | weight &lt;int&gt; | acceleration &lt;dbl&gt; | model &lt;int&gt; | origin &lt;int&gt; | car &lt;fct&gt; |\n",
              "|---|---|---|---|---|---|---|---|---|---|\n",
              "| 1 | 33.0 | 4 |  91 | 32 | 1795 | 17.4 | 76 | 3 | honda civic        |\n",
              "| 2 | 20.0 | 6 | 225 |  2 | 3651 | 17.7 | 76 | 1 | dodge aspen se     |\n",
              "| 3 | 18.0 | 6 | 250 | 50 | 3574 | 21.0 | 76 | 1 | ford granada ghia  |\n",
              "| 4 | 18.5 | 6 | 250 |  7 | 3645 | 16.2 | 76 | 1 | pontiac ventura sj |\n",
              "| 5 | 17.5 | 6 | 258 | 62 | 3193 | 17.8 | 76 | 1 | amc pacer d/l      |\n",
              "| 6 | 29.5 | 4 |  97 | 44 | 1825 | 12.2 | 76 | 2 | volkswagen rabbit  |\n",
              "\n"
            ],
            "text/plain": [
              "  mpg  cylinders displacement horsepower weight acceleration model origin\n",
              "1 33.0 4          91          32         1795   17.4         76    3     \n",
              "2 20.0 6         225           2         3651   17.7         76    1     \n",
              "3 18.0 6         250          50         3574   21.0         76    1     \n",
              "4 18.5 6         250           7         3645   16.2         76    1     \n",
              "5 17.5 6         258          62         3193   17.8         76    1     \n",
              "6 29.5 4          97          44         1825   12.2         76    2     \n",
              "  car               \n",
              "1 honda civic       \n",
              "2 dodge aspen se    \n",
              "3 ford granada ghia \n",
              "4 pontiac ventura sj\n",
              "5 amc pacer d/l     \n",
              "6 volkswagen rabbit "
            ]
          },
          "metadata": {},
          "output_type": "display_data"
        },
        {
          "name": "stdout",
          "output_type": "stream",
          "text": [
            "'data.frame':\t200 obs. of  9 variables:\n",
            " $ mpg         : num  33 20 18 18.5 17.5 29.5 32 28 26.5 20 ...\n",
            " $ cylinders   : int  4 6 6 6 6 4 4 4 4 4 ...\n",
            " $ displacement: int  91 225 250 250 258 97 85 97 140 130 ...\n",
            " $ horsepower  : int  32 2 50 7 62 44 43 47 45 3 ...\n",
            " $ weight      : int  1795 3651 3574 3645 3193 1825 1990 2155 2565 3150 ...\n",
            " $ acceleration: num  17.4 17.7 21 16.2 17.8 12.2 17 16.4 13.6 15.7 ...\n",
            " $ model       : int  76 76 76 76 76 76 76 76 76 76 ...\n",
            " $ origin      : int  3 1 1 1 1 2 3 3 1 2 ...\n",
            " $ car         : Factor w/ 179 levels \"amc concord\",..: 94 56 81 145 5 167 49 154 88 172 ...\n"
          ]
        },
        {
          "data": {
            "text/html": [
              "<style>\n",
              ".list-inline {list-style: none; margin:0; padding: 0}\n",
              ".list-inline>li {display: inline-block}\n",
              ".list-inline>li:not(:last-child)::after {content: \"\\00b7\"; padding: 0 .5ex}\n",
              "</style>\n",
              "<ol class=list-inline><li>200</li><li>9</li></ol>\n"
            ],
            "text/latex": [
              "\\begin{enumerate*}\n",
              "\\item 200\n",
              "\\item 9\n",
              "\\end{enumerate*}\n"
            ],
            "text/markdown": [
              "1. 200\n",
              "2. 9\n",
              "\n",
              "\n"
            ],
            "text/plain": [
              "[1] 200   9"
            ]
          },
          "metadata": {},
          "output_type": "display_data"
        }
      ],
      "source": [
        "df <- read.csv(\"cars.csv\", stringsAsFactors = TRUE)\n",
        "head(df)\n",
        "\n",
        "str(df)\n",
        "\n",
        "dim(df)"
      ]
    },
    {
      "cell_type": "markdown",
      "id": "6904f790",
      "metadata": {
        "id": "6904f790"
      },
      "source": [
        "Sprawdź, czy wystepują braki. Wyświetl ich sumę. Jeśli wystepują uzupełnij\n",
        " je np. medianą. Sprawdź rezultat.\n"
      ]
    },
    {
      "cell_type": "code",
      "execution_count": 10,
      "id": "I6j6uPfjvd1o",
      "metadata": {
        "id": "I6j6uPfjvd1o",
        "vscode": {
          "languageId": "r"
        }
      },
      "outputs": [
        {
          "data": {
            "text/html": [
              "0"
            ],
            "text/latex": [
              "0"
            ],
            "text/markdown": [
              "0"
            ],
            "text/plain": [
              "[1] 0"
            ]
          },
          "metadata": {},
          "output_type": "display_data"
        },
        {
          "data": {
            "text/html": [],
            "text/latex": [],
            "text/markdown": [],
            "text/plain": [
              "character(0)"
            ]
          },
          "metadata": {},
          "output_type": "display_data"
        }
      ],
      "source": [
        "sum(is.na(df))\n",
        "\n",
        "colnames(df)[colSums(is.na(df)) > 0]\n",
        "\n",
        "df$horsepower[is.na(df$horsepower)]=median(df$horsepower, na.rm=TRUE)\n"
      ]
    },
    {
      "cell_type": "markdown",
      "id": "f07a66c1",
      "metadata": {
        "id": "f07a66c1"
      },
      "source": [
        "Wybierz do analizy tylko zmienne numeryczne."
      ]
    },
    {
      "cell_type": "code",
      "execution_count": 14,
      "id": "mgnUxXM5vfdV",
      "metadata": {
        "id": "mgnUxXM5vfdV",
        "vscode": {
          "languageId": "r"
        }
      },
      "outputs": [
        {
          "data": {
            "text/html": [
              "<style>\n",
              ".dl-inline {width: auto; margin:0; padding: 0}\n",
              ".dl-inline>dt, .dl-inline>dd {float: none; width: auto; display: inline-block}\n",
              ".dl-inline>dt::after {content: \":\\0020\"; padding-right: .5ex}\n",
              ".dl-inline>dt:not(:first-of-type) {padding-left: .5ex}\n",
              "</style><dl class=dl-inline><dt>mpg</dt><dd>TRUE</dd><dt>cylinders</dt><dd>TRUE</dd><dt>displacement</dt><dd>TRUE</dd><dt>horsepower</dt><dd>TRUE</dd><dt>weight</dt><dd>TRUE</dd><dt>acceleration</dt><dd>TRUE</dd><dt>model</dt><dd>TRUE</dd><dt>origin</dt><dd>TRUE</dd><dt>car</dt><dd>FALSE</dd></dl>\n"
            ],
            "text/latex": [
              "\\begin{description*}\n",
              "\\item[mpg] TRUE\n",
              "\\item[cylinders] TRUE\n",
              "\\item[displacement] TRUE\n",
              "\\item[horsepower] TRUE\n",
              "\\item[weight] TRUE\n",
              "\\item[acceleration] TRUE\n",
              "\\item[model] TRUE\n",
              "\\item[origin] TRUE\n",
              "\\item[car] FALSE\n",
              "\\end{description*}\n"
            ],
            "text/markdown": [
              "mpg\n",
              ":   TRUEcylinders\n",
              ":   TRUEdisplacement\n",
              ":   TRUEhorsepower\n",
              ":   TRUEweight\n",
              ":   TRUEacceleration\n",
              ":   TRUEmodel\n",
              ":   TRUEorigin\n",
              ":   TRUEcar\n",
              ":   FALSE\n",
              "\n"
            ],
            "text/plain": [
              "         mpg    cylinders displacement   horsepower       weight acceleration \n",
              "        TRUE         TRUE         TRUE         TRUE         TRUE         TRUE \n",
              "       model       origin          car \n",
              "        TRUE         TRUE        FALSE "
            ]
          },
          "metadata": {},
          "output_type": "display_data"
        }
      ],
      "source": [
        "num_cols <- sapply(df, is.numeric)\n",
        "num_cols"
      ]
    },
    {
      "cell_type": "markdown",
      "id": "552de446",
      "metadata": {
        "id": "552de446"
      },
      "source": [
        "## Korelacja"
      ]
    },
    {
      "cell_type": "markdown",
      "id": "0e4f07db",
      "metadata": {},
      "source": [
        "Policz korelację między zmiennymi (przedsatw macierz korelacji). Opisz uzyskane wyniki. Z którymi zmiennymi skorelowana jest zmienna mpg?"
      ]
    },
    {
      "cell_type": "code",
      "execution_count": 15,
      "id": "bD5SxDvJvkt0",
      "metadata": {
        "id": "bD5SxDvJvkt0",
        "vscode": {
          "languageId": "r"
        }
      },
      "outputs": [
        {
          "data": {
            "text/html": [
              "<table class=\"dataframe\">\n",
              "<caption>A matrix: 8 × 8 of type dbl</caption>\n",
              "<thead>\n",
              "\t<tr><th></th><th scope=col>mpg</th><th scope=col>cylinders</th><th scope=col>displacement</th><th scope=col>horsepower</th><th scope=col>weight</th><th scope=col>acceleration</th><th scope=col>model</th><th scope=col>origin</th></tr>\n",
              "</thead>\n",
              "<tbody>\n",
              "\t<tr><th scope=row>mpg</th><td> 1.0000000</td><td>-0.7206425</td><td>-0.7773678</td><td> 0.35124490</td><td>-0.8498579</td><td> 0.2585013</td><td> 0.5041184</td><td> 0.50125909</td></tr>\n",
              "\t<tr><th scope=row>cylinders</th><td>-0.7206425</td><td> 1.0000000</td><td> 0.9393381</td><td>-0.49330101</td><td> 0.8565786</td><td>-0.2676516</td><td>-0.3583230</td><td>-0.45107627</td></tr>\n",
              "\t<tr><th scope=row>displacement</th><td>-0.7773678</td><td> 0.9393381</td><td> 1.0000000</td><td>-0.39747655</td><td> 0.9224963</td><td>-0.2752393</td><td>-0.3386787</td><td>-0.56276366</td></tr>\n",
              "\t<tr><th scope=row>horsepower</th><td> 0.3512449</td><td>-0.4933010</td><td>-0.3974765</td><td> 1.00000000</td><td>-0.4052634</td><td> 0.2090755</td><td> 0.2634229</td><td> 0.08464419</td></tr>\n",
              "\t<tr><th scope=row>weight</th><td>-0.8498579</td><td> 0.8565786</td><td> 0.9224963</td><td>-0.40526343</td><td> 1.0000000</td><td>-0.1316865</td><td>-0.3502066</td><td>-0.54323084</td></tr>\n",
              "\t<tr><th scope=row>acceleration</th><td> 0.2585013</td><td>-0.2676516</td><td>-0.2752393</td><td> 0.20907551</td><td>-0.1316865</td><td> 1.0000000</td><td> 0.1523402</td><td> 0.10390974</td></tr>\n",
              "\t<tr><th scope=row>model</th><td> 0.5041184</td><td>-0.3583230</td><td>-0.3386787</td><td> 0.26342290</td><td>-0.3502066</td><td> 0.1523402</td><td> 1.0000000</td><td> 0.11219251</td></tr>\n",
              "\t<tr><th scope=row>origin</th><td> 0.5012591</td><td>-0.4510763</td><td>-0.5627637</td><td> 0.08464419</td><td>-0.5432308</td><td> 0.1039097</td><td> 0.1121925</td><td> 1.00000000</td></tr>\n",
              "</tbody>\n",
              "</table>\n"
            ],
            "text/latex": [
              "A matrix: 8 × 8 of type dbl\n",
              "\\begin{tabular}{r|llllllll}\n",
              "  & mpg & cylinders & displacement & horsepower & weight & acceleration & model & origin\\\\\n",
              "\\hline\n",
              "\tmpg &  1.0000000 & -0.7206425 & -0.7773678 &  0.35124490 & -0.8498579 &  0.2585013 &  0.5041184 &  0.50125909\\\\\n",
              "\tcylinders & -0.7206425 &  1.0000000 &  0.9393381 & -0.49330101 &  0.8565786 & -0.2676516 & -0.3583230 & -0.45107627\\\\\n",
              "\tdisplacement & -0.7773678 &  0.9393381 &  1.0000000 & -0.39747655 &  0.9224963 & -0.2752393 & -0.3386787 & -0.56276366\\\\\n",
              "\thorsepower &  0.3512449 & -0.4933010 & -0.3974765 &  1.00000000 & -0.4052634 &  0.2090755 &  0.2634229 &  0.08464419\\\\\n",
              "\tweight & -0.8498579 &  0.8565786 &  0.9224963 & -0.40526343 &  1.0000000 & -0.1316865 & -0.3502066 & -0.54323084\\\\\n",
              "\tacceleration &  0.2585013 & -0.2676516 & -0.2752393 &  0.20907551 & -0.1316865 &  1.0000000 &  0.1523402 &  0.10390974\\\\\n",
              "\tmodel &  0.5041184 & -0.3583230 & -0.3386787 &  0.26342290 & -0.3502066 &  0.1523402 &  1.0000000 &  0.11219251\\\\\n",
              "\torigin &  0.5012591 & -0.4510763 & -0.5627637 &  0.08464419 & -0.5432308 &  0.1039097 &  0.1121925 &  1.00000000\\\\\n",
              "\\end{tabular}\n"
            ],
            "text/markdown": [
              "\n",
              "A matrix: 8 × 8 of type dbl\n",
              "\n",
              "| <!--/--> | mpg | cylinders | displacement | horsepower | weight | acceleration | model | origin |\n",
              "|---|---|---|---|---|---|---|---|---|\n",
              "| mpg |  1.0000000 | -0.7206425 | -0.7773678 |  0.35124490 | -0.8498579 |  0.2585013 |  0.5041184 |  0.50125909 |\n",
              "| cylinders | -0.7206425 |  1.0000000 |  0.9393381 | -0.49330101 |  0.8565786 | -0.2676516 | -0.3583230 | -0.45107627 |\n",
              "| displacement | -0.7773678 |  0.9393381 |  1.0000000 | -0.39747655 |  0.9224963 | -0.2752393 | -0.3386787 | -0.56276366 |\n",
              "| horsepower |  0.3512449 | -0.4933010 | -0.3974765 |  1.00000000 | -0.4052634 |  0.2090755 |  0.2634229 |  0.08464419 |\n",
              "| weight | -0.8498579 |  0.8565786 |  0.9224963 | -0.40526343 |  1.0000000 | -0.1316865 | -0.3502066 | -0.54323084 |\n",
              "| acceleration |  0.2585013 | -0.2676516 | -0.2752393 |  0.20907551 | -0.1316865 |  1.0000000 |  0.1523402 |  0.10390974 |\n",
              "| model |  0.5041184 | -0.3583230 | -0.3386787 |  0.26342290 | -0.3502066 |  0.1523402 |  1.0000000 |  0.11219251 |\n",
              "| origin |  0.5012591 | -0.4510763 | -0.5627637 |  0.08464419 | -0.5432308 |  0.1039097 |  0.1121925 |  1.00000000 |\n",
              "\n"
            ],
            "text/plain": [
              "             mpg        cylinders  displacement horsepower  weight    \n",
              "mpg           1.0000000 -0.7206425 -0.7773678    0.35124490 -0.8498579\n",
              "cylinders    -0.7206425  1.0000000  0.9393381   -0.49330101  0.8565786\n",
              "displacement -0.7773678  0.9393381  1.0000000   -0.39747655  0.9224963\n",
              "horsepower    0.3512449 -0.4933010 -0.3974765    1.00000000 -0.4052634\n",
              "weight       -0.8498579  0.8565786  0.9224963   -0.40526343  1.0000000\n",
              "acceleration  0.2585013 -0.2676516 -0.2752393    0.20907551 -0.1316865\n",
              "model         0.5041184 -0.3583230 -0.3386787    0.26342290 -0.3502066\n",
              "origin        0.5012591 -0.4510763 -0.5627637    0.08464419 -0.5432308\n",
              "             acceleration model      origin     \n",
              "mpg           0.2585013    0.5041184  0.50125909\n",
              "cylinders    -0.2676516   -0.3583230 -0.45107627\n",
              "displacement -0.2752393   -0.3386787 -0.56276366\n",
              "horsepower    0.2090755    0.2634229  0.08464419\n",
              "weight       -0.1316865   -0.3502066 -0.54323084\n",
              "acceleration  1.0000000    0.1523402  0.10390974\n",
              "model         0.1523402    1.0000000  0.11219251\n",
              "origin        0.1039097    0.1121925  1.00000000"
            ]
          },
          "metadata": {},
          "output_type": "display_data"
        }
      ],
      "source": [
        "cor_data <- cor(df[, num_cols])\n",
        "cor_data"
      ]
    },
    {
      "cell_type": "code",
      "execution_count": 20,
      "id": "05e25514",
      "metadata": {
        "vscode": {
          "languageId": "r"
        }
      },
      "outputs": [],
      "source": [
        "install.packages(\"corrplot\")\n",
        "install.packages(\"corrgram\")"
      ]
    },
    {
      "cell_type": "code",
      "execution_count": 21,
      "id": "916b033e",
      "metadata": {
        "vscode": {
          "languageId": "r"
        }
      },
      "outputs": [
        {
          "data": {
            "image/png": "[encoded data removed]",
            "text/plain": [
              "Plot with title \"\""
            ]
          },
          "metadata": {
            "image/png": {
              "height": 420,
              "width": 420
            }
          },
          "output_type": "display_data"
        },
        {
          "data": {
            "image/png": "[encoded data removed]",
            "text/plain": [
              "plot without title"
            ]
          },
          "metadata": {
            "image/png": {
              "height": 420,
              "width": 420
            }
          },
          "output_type": "display_data"
        }
      ],
      "source": [
        "library(corrplot)\n",
        "corrplot(cor_data)\n",
        "\n",
        "library(corrgram)\n",
        "corrgram(df ,order = TRUE, lower.panel = panel.shade, upper.panel = panel.pie, text.panel = panel.txt)"
      ]
    },
    {
      "cell_type": "markdown",
      "metadata": {},
      "source": []
    },
    {
      "cell_type": "markdown",
      "id": "1d9e0238",
      "metadata": {
        "id": "1d9e0238"
      },
      "source": [
        "## Regresja"
      ]
    },
    {
      "cell_type": "markdown",
      "id": "2b594c29",
      "metadata": {
        "id": "2b594c29"
      },
      "source": [
        "1. Zbuduj wybrany modele:\n",
        "- regrsji liniowej prostej\n",
        "- oraz wielorakiej (peny model, regresja krokowa wsteczna, regresja krokowa postępująca)\n",
        "2. Wykonaj predykcję dla każdego modelu.\n",
        "3. Oceń, który model daje najlepsze wyniki"
      ]
    },
    {
      "cell_type": "code",
      "execution_count": 33,
      "id": "_1BNuV61vnE-",
      "metadata": {
        "id": "_1BNuV61vnE-",
        "vscode": {
          "languageId": "r"
        }
      },
      "outputs": [],
      "source": [
        "model <- lm(mpg ~ weight, data = df)"
      ]
    },
    {
      "cell_type": "code",
      "execution_count": 34,
      "id": "e5210a8d",
      "metadata": {
        "vscode": {
          "languageId": "r"
        }
      },
      "outputs": [
        {
          "data": {
            "text/plain": [
              "\n",
              "Call:\n",
              "lm(formula = mpg ~ weight, data = df)\n",
              "\n",
              "Residuals:\n",
              "    Min      1Q  Median      3Q     Max \n",
              "-8.5441 -2.8516 -0.5529  2.2792 13.1128 \n",
              "\n",
              "Coefficients:\n",
              "              Estimate Std. Error t value Pr(>|t|)    \n",
              "(Intercept) 53.5090303  1.1918829   44.90   <2e-16 ***\n",
              "weight      -0.0094890  0.0004182  -22.69   <2e-16 ***\n",
              "---\n",
              "Signif. codes:  0 '***' 0.001 '**' 0.01 '*' 0.05 '.' 0.1 ' ' 1\n",
              "\n",
              "Residual standard error: 4.089 on 198 degrees of freedom\n",
              "Multiple R-squared:  0.7223,\tAdjusted R-squared:  0.7209 \n",
              "F-statistic: 514.9 on 1 and 198 DF,  p-value: < 2.2e-16\n"
            ]
          },
          "metadata": {},
          "output_type": "display_data"
        }
      ],
      "source": [
        "summary(model)"
      ]
    },
    {
      "cell_type": "code",
      "execution_count": 35,
      "id": "c0762539",
      "metadata": {
        "vscode": {
          "languageId": "r"
        }
      },
      "outputs": [
        {
          "data": {
            "text/html": [
              "<style>\n",
              ".dl-inline {width: auto; margin:0; padding: 0}\n",
              ".dl-inline>dt, .dl-inline>dd {float: none; width: auto; display: inline-block}\n",
              ".dl-inline>dt::after {content: \":\\0020\"; padding-right: .5ex}\n",
              ".dl-inline>dt:not(:first-of-type) {padding-left: .5ex}\n",
              "</style><dl class=dl-inline><dt>1</dt><dd>36.4762018054207</dd><dt>2</dt><dd>18.864541864428</dd><dt>3</dt><dd>19.5951980149972</dd><dt>4</dt><dd>18.9214761099269</dd><dt>5</dt><dd>23.2105226041773</dd><dt>6</dt><dd>36.1915305779262</dd></dl>\n"
            ],
            "text/latex": [
              "\\begin{description*}\n",
              "\\item[1] 36.4762018054207\n",
              "\\item[2] 18.864541864428\n",
              "\\item[3] 19.5951980149972\n",
              "\\item[4] 18.9214761099269\n",
              "\\item[5] 23.2105226041773\n",
              "\\item[6] 36.1915305779262\n",
              "\\end{description*}\n"
            ],
            "text/markdown": [
              "1\n",
              ":   36.47620180542072\n",
              ":   18.8645418644283\n",
              ":   19.59519801499724\n",
              ":   18.92147610992695\n",
              ":   23.21052260417736\n",
              ":   36.1915305779262\n",
              "\n"
            ],
            "text/plain": [
              "       1        2        3        4        5        6 \n",
              "36.47620 18.86454 19.59520 18.92148 23.21052 36.19153 "
            ]
          },
          "metadata": {},
          "output_type": "display_data"
        }
      ],
      "source": [
        "prediction <- predict(model, df)\n",
        "head(prediction)"
      ]
    },
    {
      "cell_type": "code",
      "execution_count": 39,
      "id": "b3f558cb",
      "metadata": {
        "vscode": {
          "languageId": "r"
        }
      },
      "outputs": [
        {
          "data": {
            "text/html": [
              "<table class=\"dataframe\">\n",
              "<caption>A data.frame: 6 × 2</caption>\n",
              "<thead>\n",
              "\t<tr><th></th><th scope=col>pred</th><th scope=col>real</th></tr>\n",
              "\t<tr><th></th><th scope=col>&lt;dbl&gt;</th><th scope=col>&lt;dbl&gt;</th></tr>\n",
              "</thead>\n",
              "<tbody>\n",
              "\t<tr><th scope=row>1</th><td>36.47620</td><td>33.0</td></tr>\n",
              "\t<tr><th scope=row>2</th><td>18.86454</td><td>20.0</td></tr>\n",
              "\t<tr><th scope=row>3</th><td>19.59520</td><td>18.0</td></tr>\n",
              "\t<tr><th scope=row>4</th><td>18.92148</td><td>18.5</td></tr>\n",
              "\t<tr><th scope=row>5</th><td>23.21052</td><td>17.5</td></tr>\n",
              "\t<tr><th scope=row>6</th><td>36.19153</td><td>29.5</td></tr>\n",
              "</tbody>\n",
              "</table>\n"
            ],
            "text/latex": [
              "A data.frame: 6 × 2\n",
              "\\begin{tabular}{r|ll}\n",
              "  & pred & real\\\\\n",
              "  & <dbl> & <dbl>\\\\\n",
              "\\hline\n",
              "\t1 & 36.47620 & 33.0\\\\\n",
              "\t2 & 18.86454 & 20.0\\\\\n",
              "\t3 & 19.59520 & 18.0\\\\\n",
              "\t4 & 18.92148 & 18.5\\\\\n",
              "\t5 & 23.21052 & 17.5\\\\\n",
              "\t6 & 36.19153 & 29.5\\\\\n",
              "\\end{tabular}\n"
            ],
            "text/markdown": [
              "\n",
              "A data.frame: 6 × 2\n",
              "\n",
              "| <!--/--> | pred &lt;dbl&gt; | real &lt;dbl&gt; |\n",
              "|---|---|---|\n",
              "| 1 | 36.47620 | 33.0 |\n",
              "| 2 | 18.86454 | 20.0 |\n",
              "| 3 | 19.59520 | 18.0 |\n",
              "| 4 | 18.92148 | 18.5 |\n",
              "| 5 | 23.21052 | 17.5 |\n",
              "| 6 | 36.19153 | 29.5 |\n",
              "\n"
            ],
            "text/plain": [
              "  pred     real\n",
              "1 36.47620 33.0\n",
              "2 18.86454 20.0\n",
              "3 19.59520 18.0\n",
              "4 18.92148 18.5\n",
              "5 23.21052 17.5\n",
              "6 36.19153 29.5"
            ]
          },
          "metadata": {},
          "output_type": "display_data"
        }
      ],
      "source": [
        "results <- cbind(prediction, df$mpg)\n",
        "colnames(results) <- c('pred','real')\n",
        "results <- as.data.frame(results)\n",
        "\n",
        "head(results)"
      ]
    },
    {
      "cell_type": "code",
      "execution_count": null,
      "id": "f27b03a5",
      "metadata": {
        "vscode": {
          "languageId": "r"
        }
      },
      "outputs": [],
      "source": [
        "install.packages(\"Metrics\")"
      ]
    },
    {
      "cell_type": "code",
      "execution_count": 40,
      "id": "7ebaa960",
      "metadata": {
        "vscode": {
          "languageId": "r"
        }
      },
      "outputs": [],
      "source": [
        "library(Metrics)"
      ]
    },
    {
      "cell_type": "code",
      "execution_count": 41,
      "id": "8b2ede22",
      "metadata": {
        "vscode": {
          "languageId": "r"
        }
      },
      "outputs": [
        {
          "data": {
            "text/html": [
              "3.14523888507256"
            ],
            "text/latex": [
              "3.14523888507256"
            ],
            "text/markdown": [
              "3.14523888507256"
            ],
            "text/plain": [
              "[1] 3.145239"
            ]
          },
          "metadata": {},
          "output_type": "display_data"
        },
        {
          "data": {
            "text/html": [
              "16.5514021427924"
            ],
            "text/latex": [
              "16.5514021427924"
            ],
            "text/markdown": [
              "16.5514021427924"
            ],
            "text/plain": [
              "[1] 16.5514"
            ]
          },
          "metadata": {},
          "output_type": "display_data"
        },
        {
          "data": {
            "text/html": [
              "4.06834144864863"
            ],
            "text/latex": [
              "4.06834144864863"
            ],
            "text/markdown": [
              "4.06834144864863"
            ],
            "text/plain": [
              "[1] 4.068341"
            ]
          },
          "metadata": {},
          "output_type": "display_data"
        }
      ],
      "source": [
        "mae(results$real, results$pred)\n",
        "mse(results$real, results$pred)\n",
        "rmse(results$real, results$pred)"
      ]
    },
    {
      "cell_type": "code",
      "execution_count": 42,
      "id": "7c16f7c3",
      "metadata": {
        "vscode": {
          "languageId": "r"
        }
      },
      "outputs": [
        {
          "data": {
            "text/html": [
              "0.720855798935208"
            ],
            "text/latex": [
              "0.720855798935208"
            ],
            "text/markdown": [
              "0.720855798935208"
            ],
            "text/plain": [
              "[1] 0.7208558"
            ]
          },
          "metadata": {},
          "output_type": "display_data"
        }
      ],
      "source": [
        "summary(model)$adj.r.squared"
      ]
    },
    {
      "cell_type": "markdown",
      "id": "ae1b9386",
      "metadata": {},
      "source": [
        "# Wieloraka"
      ]
    },
    {
      "cell_type": "code",
      "execution_count": 43,
      "id": "72dc7296",
      "metadata": {
        "vscode": {
          "languageId": "r"
        }
      },
      "outputs": [],
      "source": [
        "full_model <- lm(mpg ~ ., data = df)"
      ]
    },
    {
      "cell_type": "code",
      "execution_count": 44,
      "id": "c4f914c8",
      "metadata": {
        "vscode": {
          "languageId": "r"
        }
      },
      "outputs": [
        {
          "data": {
            "text/plain": [
              "\n",
              "Call:\n",
              "lm(formula = mpg ~ ., data = df)\n",
              "\n",
              "Residuals:\n",
              "   Min     1Q Median     3Q    Max \n",
              "-4.398  0.000  0.000  0.000  4.398 \n",
              "\n",
              "Coefficients: (1 not defined because of singularities)\n",
              "                                          Estimate Std. Error t value Pr(>|t|)\n",
              "(Intercept)                             -26.390468  32.723506  -0.806   0.4326\n",
              "cylinders                                -2.743748   2.524723  -1.087   0.2943\n",
              "displacement                              0.075010   0.083969   0.893   0.3858\n",
              "horsepower                               -0.014174   0.049752  -0.285   0.7796\n",
              "weight                                   -0.007287   0.005650  -1.290   0.2167\n",
              "acceleration                             -0.131128   0.363667  -0.361   0.7234\n",
              "model                                     0.860508   0.338776   2.540   0.0226\n",
              "origin                                    5.548400   5.779784   0.960   0.3523\n",
              "caramc concord d/l                       -4.082247   4.975864  -0.820   0.4248\n",
              "caramc concord dl                        -1.699292   4.173039  -0.407   0.6896\n",
              "caramc concord dl 6                      -0.848137   3.777479  -0.225   0.8254\n",
              "caramc pacer d/l                         -3.465654   4.863828  -0.713   0.4871\n",
              "caramc spirit dl                          4.321573   4.610000   0.937   0.3634\n",
              "caraudi 4000                              3.177023   4.162739   0.763   0.4572\n",
              "caraudi 5000                             -4.869035   5.353268  -0.910   0.3774\n",
              "caraudi 5000s (diesel)                   12.169278   6.561993   1.855   0.0834\n",
              "carbmw 320i                              -6.842212   4.989710  -1.371   0.1905\n",
              "carbuick century                         -0.266972   4.263344  -0.063   0.9509\n",
              "carbuick century limited                  1.876703   4.578640   0.410   0.6877\n",
              "carbuick century special                  0.231151   4.132581   0.056   0.9561\n",
              "carbuick estate wagon (sw)               -0.461112   6.325063  -0.073   0.9428\n",
              "carbuick opel isuzu deluxe                5.613548   5.049717   1.112   0.2838\n",
              "carbuick regal sport coupe (turbo)       -2.212241   4.021540  -0.550   0.5904\n",
              "carbuick skylark                          0.492567   3.257815   0.151   0.8818\n",
              "carbuick skylark limited                  3.315794   4.018142   0.825   0.4222\n",
              "carcadillac eldorado                      2.430335   6.877109   0.353   0.7287\n",
              "carcadillac seville                       1.541517   6.452013   0.239   0.8144\n",
              "carchevrolet camaro                       1.545158   3.925012   0.394   0.6994\n",
              "carchevrolet caprice classic              0.257447   4.675077   0.055   0.9568\n",
              "carchevrolet cavalier                     3.229703   4.700476   0.687   0.5025\n",
              "carchevrolet cavalier 2-door              7.489583   4.626903   1.619   0.1263\n",
              "carchevrolet cavalier wagon               2.353627   4.739480   0.497   0.6267\n",
              "carchevrolet chevette                     6.001339   4.799183   1.250   0.2303\n",
              "carchevrolet citation                     2.527446   3.691173   0.685   0.5040\n",
              "carchevrolet concours                    -2.306295   4.488283  -0.514   0.6148\n",
              "carchevrolet malibu                       1.939441   4.075181   0.476   0.6410\n",
              "carchevrolet malibu classic (sw)          2.391719   4.970682   0.481   0.6373\n",
              "carchevrolet monte carlo landau          -1.497923   5.501734  -0.272   0.7891\n",
              "carchevy c10                             -4.424982   6.519884  -0.679   0.5077\n",
              "carchevy s-10                             6.445569   4.553603   1.415   0.1774\n",
              "carchrysler cordoba                      -4.442995   8.898964  -0.499   0.6248\n",
              "carchrysler lebaron medallion            -2.842710   4.507860  -0.631   0.5378\n",
              "carchrysler lebaron salon                -3.453141   3.971345  -0.870   0.3983\n",
              "carchrysler lebaron town @ country (sw)  -2.935157   7.289322  -0.403   0.6929\n",
              "cardatsun 200-sx                        -11.038839   9.289506  -1.188   0.2532\n",
              "cardatsun 200sx                          -3.981926   9.484935  -0.420   0.6806\n",
              "cardatsun 210                             0.338421   8.355872   0.041   0.9682\n",
              "cardatsun 210 mpg                        -0.881964   8.541977  -0.103   0.9191\n",
              "cardatsun 280-zx                          0.378742  10.016803   0.038   0.9703\n",
              "cardatsun 310                             0.030786   8.269645   0.004   0.9971\n",
              "cardatsun 310 gx                         -1.438050   8.360516  -0.172   0.8657\n",
              "cardatsun 510                            -8.530222   9.142606  -0.933   0.3656\n",
              "cardatsun 510 hatchback                   0.522067   9.311511   0.056   0.9560\n",
              "cardatsun 810                            -5.680797  10.720231  -0.530   0.6039\n",
              "cardatsun 810 maxima                     -6.927791  10.219776  -0.678   0.5082\n",
              "cardatsun b-210                          -1.713957   8.348157  -0.205   0.8401\n",
              "cardatsun b210 gx                         4.757810   8.556965   0.556   0.5864\n",
              "cardatsun f-10 hatchback                 -1.428615   8.245100  -0.173   0.8648\n",
              "cardodge aries se                         1.406916   4.292100   0.328   0.7476\n",
              "cardodge aries wagon (sw)                -1.940262   4.383537  -0.443   0.6644\n",
              "cardodge aspen                           -0.266967   3.234499  -0.083   0.9353\n",
              "cardodge aspen 6                         -0.191791   4.031250  -0.048   0.9627\n",
              "cardodge aspen se                         3.983683   4.343221   0.917   0.3735\n",
              "cardodge charger 2.2                      6.884013   4.845345   1.421   0.1758\n",
              "cardodge colt                             1.538219   5.236206   0.294   0.7730\n",
              "cardodge colt hatchback custom            8.766279   5.568000   1.574   0.1362\n",
              "cardodge colt m/m                         9.678288   5.317204   1.820   0.0887\n",
              "cardodge d100                            -3.920225   5.408813  -0.725   0.4797\n",
              "cardodge diplomat                         0.451419   5.523082   0.082   0.9359\n",
              "cardodge magnum xe                        1.131071   5.407547   0.209   0.8371\n",
              "cardodge monaco brougham                  0.457158   5.448626   0.084   0.9342\n",
              "cardodge omni                             6.539434   5.089259   1.285   0.2183\n",
              "cardodge rampage                          2.153893   5.195074   0.415   0.6843\n",
              "cardodge st. regis                       -0.697068   5.422799  -0.129   0.8994\n",
              "carfiat strada custom                     6.807301   4.106572   1.658   0.1181\n",
              "carford country squire (sw)              -4.301380   6.568888  -0.655   0.5225\n",
              "carford escort 2h                         5.261495   5.304213   0.992   0.3370\n",
              "carford escort 4w                         6.730202   5.448564   1.235   0.2357\n",
              "carford f108                             -1.892645   4.964171  -0.381   0.7084\n",
              "carford fairmont                          2.984860   3.964655   0.753   0.4632\n",
              "carford fairmont (auto)                  -0.144879   3.912945  -0.037   0.9710\n",
              "carford fairmont (man)                    1.958747   4.121518   0.475   0.6415\n",
              "carford fairmont 4                       -0.213791   4.042307  -0.053   0.9585\n",
              "carford fairmont futura                  -1.352988   4.133583  -0.327   0.7480\n",
              "carford fiesta                            9.004500   5.976262   1.507   0.1527\n",
              "carford futura                           -3.787076   6.080717  -0.623   0.5428\n",
              "carford granada                          -0.106854   4.059577  -0.026   0.9793\n",
              "carford granada ghia                      0.660379   4.159104   0.159   0.8760\n",
              "carford granada gl                       -1.835303   3.993289  -0.460   0.6524\n",
              "carford granada l                        -5.959139   5.705154  -1.045   0.3128\n",
              "carford ltd landau                       -1.154793   5.118586  -0.226   0.8246\n",
              "carford mustang cobra                    -0.313501   4.469001  -0.070   0.9450\n",
              "carford mustang gl                        0.938873   4.173138   0.225   0.8250\n",
              "carford mustang ii 2+2                    3.540932   4.145932   0.854   0.4065\n",
              "carford pinto                             3.529956   4.607259   0.766   0.4555\n",
              "carford ranger                            2.545024   4.449471   0.572   0.5758\n",
              "carford thunderbird                       0.021915   6.286509   0.003   0.9973\n",
              "carhonda accord                          -3.711645   8.599864  -0.432   0.6722\n",
              "carhonda accord cvcc                     -3.480452   8.672375  -0.401   0.6938\n",
              "carhonda accord lx                       -5.934254   8.565125  -0.693   0.4990\n",
              "carhonda civic                           -2.251251   7.946409  -0.283   0.7808\n",
              "carhonda civic (auto)                    -7.722230   8.299341  -0.930   0.3669\n",
              "carhonda civic 1300                      -4.538093   7.984542  -0.568   0.5782\n",
              "carhonda civic 1500 gl                    5.511612   8.041543   0.685   0.5036\n",
              "carhonda civic cvcc                      -1.375842   8.182173  -0.168   0.8687\n",
              "carhonda prelude                         -4.647765   8.727451  -0.533   0.6021\n",
              "carmaxda glc deluxe                      -2.686697   8.120785  -0.331   0.7453\n",
              "carmazda 626                             -4.232568   9.413709  -0.450   0.6594\n",
              "carmazda glc                             10.290615   8.522822   1.207   0.2460\n",
              "carmazda glc 4                           -4.562466   8.300450  -0.550   0.5906\n",
              "carmazda glc custom                      -8.422477   8.462753  -0.995   0.3354\n",
              "carmazda glc custom l                    -1.943003   8.566996  -0.227   0.8236\n",
              "carmazda glc deluxe                      -2.001715   8.462580  -0.237   0.8162\n",
              "carmazda rx-4                           -11.092700   9.826833  -1.129   0.2767\n",
              "carmazda rx-7 gs                        -13.112284   9.064574  -1.447   0.1686\n",
              "carmercedes-benz 240d                     3.585590   6.546865   0.548   0.5920\n",
              "carmercedes-benz 280s                     0.438820   8.947705   0.049   0.9615\n",
              "carmercedes benz 300d                     1.759544   7.050107   0.250   0.8063\n",
              "carmercury cougar brougham                2.330799   5.686266   0.410   0.6877\n",
              "carmercury grand marquis                 -4.209576   6.781249  -0.621   0.5441\n",
              "carmercury lynx l                         8.267780   5.304361   1.559   0.1399\n",
              "carmercury monarch ghia                   1.182562   5.220778   0.227   0.8239\n",
              "carmercury zephyr                         1.338294   3.914453   0.342   0.7372\n",
              "carmercury zephyr 6                      -0.908498   3.884288  -0.234   0.8182\n",
              "carnissan stanza xe                      -4.378739   9.072140  -0.483   0.6363\n",
              "caroldsmobile cutlass ciera (diesel)     10.084192   5.948535   1.695   0.1107\n",
              "caroldsmobile cutlass ls                  3.144647   7.687309   0.409   0.6883\n",
              "caroldsmobile cutlass salon brougham      5.308088   4.844199   1.096   0.2905\n",
              "caroldsmobile cutlass supreme             6.207130   6.303052   0.985   0.3404\n",
              "caroldsmobile omega brougham              4.642336   4.688798   0.990   0.3378\n",
              "caroldsmobile starfire sx                 1.077547   3.852159   0.280   0.7835\n",
              "carpeugeot 504                            0.212927   6.689679   0.032   0.9750\n",
              "carpeugeot 505s turbo diesel              1.040892   6.466395   0.161   0.8743\n",
              "carpeugeot 604sl                         -4.242050   7.317328  -0.580   0.5707\n",
              "carplymouth arrow gs                      1.592785   4.626262   0.344   0.7354\n",
              "carplymouth champ                        11.003546   5.928105   1.856   0.0832\n",
              "carplymouth horizon                       8.533148   5.236801   1.629   0.1240\n",
              "carplymouth horizon 4                     7.545144   5.189268   1.454   0.1666\n",
              "carplymouth horizon miser                 9.302562   5.368465   1.733   0.1036\n",
              "carplymouth horizon tc3                   8.691706   5.151467   1.687   0.1122\n",
              "carplymouth reliant                       1.006874   4.046593   0.249   0.8069\n",
              "carplymouth sapporo                      -1.539967   5.197094  -0.296   0.7711\n",
              "carplymouth volare                        1.086630   4.101249   0.265   0.7947\n",
              "carplymouth volare custom                 1.970144   4.276033   0.461   0.6516\n",
              "carplymouth volare premier v8            -2.676993   5.361118  -0.499   0.6248\n",
              "carpontiac grand prix lj                 -4.866567   9.174468  -0.530   0.6036\n",
              "carpontiac j2000 se hatchback             5.536903   4.773881   1.160   0.2642\n",
              "carpontiac lemans v6                     -0.708886   4.244825  -0.167   0.8696\n",
              "carpontiac phoenix                        3.644045   3.597780   1.013   0.3272\n",
              "carpontiac phoenix lj                     0.406506   4.195122   0.097   0.9241\n",
              "carpontiac sunbird coupe                  1.618567   4.037337   0.401   0.6941\n",
              "carpontiac ventura sj                     0.438888   4.426378   0.099   0.9223\n",
              "carrenault 18i                            3.111661   4.339087   0.717   0.4843\n",
              "carrenault 5 gtl                          6.289673   4.510535   1.394   0.1835\n",
              "carrenault lecar deluxe                   8.159712   4.227414   1.930   0.0727\n",
              "carsaab 99gle                            -5.773094   5.301847  -1.089   0.2934\n",
              "carsubaru                                -6.007691   8.614420  -0.697   0.4962\n",
              "carsubaru dl                             -4.335099   8.285859  -0.523   0.6085\n",
              "cartoyota celica gt                      -6.506744  10.144484  -0.641   0.5309\n",
              "cartoyota celica gt liftback            -14.203854   9.676994  -1.468   0.1628\n",
              "cartoyota corolla                        -4.933800   8.472230  -0.582   0.5690\n",
              "cartoyota corolla liftback               -7.256552   8.924396  -0.813   0.4289\n",
              "cartoyota corolla tercel                  0.592122   8.490060   0.070   0.9453\n",
              "cartoyota corona                         -7.554607   9.724245  -0.777   0.4493\n",
              "cartoyota corona liftback                -5.733133   9.980923  -0.574   0.5742\n",
              "cartoyota cressida                       -7.768152  10.013327  -0.776   0.4499\n",
              "cartoyota mark ii                        -8.423302  10.136537  -0.831   0.4190\n",
              "cartoyota starlet                        -0.333780   8.024574  -0.042   0.9674\n",
              "cartoyota tercel                         -0.253353   8.429772  -0.030   0.9764\n",
              "cartriumph tr7 coupe                      4.296985   4.584395   0.937   0.3634\n",
              "carvokswagen rabbit                      -3.500580   4.120496  -0.850   0.4089\n",
              "carvolkswagen dasher                      1.750202   4.228237   0.414   0.6848\n",
              "carvolkswagen jetta                       0.164511   4.167096   0.039   0.9690\n",
              "carvolkswagen rabbit                     -1.383308   4.258782  -0.325   0.7498\n",
              "carvolkswagen rabbit custom              -1.519150   4.080994  -0.372   0.7149\n",
              "carvolkswagen rabbit custom diesel       13.207762   4.950211   2.668   0.0175\n",
              "carvolkswagen rabbit l                    0.917930   4.303257   0.213   0.8340\n",
              "carvolkswagen scirocco                    1.052192   4.026913   0.261   0.7974\n",
              "carvolvo 245                             -3.825250   6.344637  -0.603   0.5556\n",
              "carvolvo 264gl                           -5.754774   6.189324  -0.930   0.3672\n",
              "carvolvo diesel                           8.156647   7.758460   1.051   0.3098\n",
              "carvw dasher (diesel)                    14.625753   5.558344   2.631   0.0189\n",
              "carvw pickup                             11.617980   5.665683   2.051   0.0582\n",
              "carvw rabbit                              9.808787   4.085134   2.401   0.0298\n",
              "carvw rabbit c (diesel)                  13.441694   4.955020   2.713   0.0160\n",
              "carvw rabbit custom                             NA         NA      NA       NA\n",
              "                                         \n",
              "(Intercept)                              \n",
              "cylinders                                \n",
              "displacement                             \n",
              "horsepower                               \n",
              "weight                                   \n",
              "acceleration                             \n",
              "model                                   *\n",
              "origin                                   \n",
              "caramc concord d/l                       \n",
              "caramc concord dl                        \n",
              "caramc concord dl 6                      \n",
              "caramc pacer d/l                         \n",
              "caramc spirit dl                         \n",
              "caraudi 4000                             \n",
              "caraudi 5000                             \n",
              "caraudi 5000s (diesel)                  .\n",
              "carbmw 320i                              \n",
              "carbuick century                         \n",
              "carbuick century limited                 \n",
              "carbuick century special                 \n",
              "carbuick estate wagon (sw)               \n",
              "carbuick opel isuzu deluxe               \n",
              "carbuick regal sport coupe (turbo)       \n",
              "carbuick skylark                         \n",
              "carbuick skylark limited                 \n",
              "carcadillac eldorado                     \n",
              "carcadillac seville                      \n",
              "carchevrolet camaro                      \n",
              "carchevrolet caprice classic             \n",
              "carchevrolet cavalier                    \n",
              "carchevrolet cavalier 2-door             \n",
              "carchevrolet cavalier wagon              \n",
              "carchevrolet chevette                    \n",
              "carchevrolet citation                    \n",
              "carchevrolet concours                    \n",
              "carchevrolet malibu                      \n",
              "carchevrolet malibu classic (sw)         \n",
              "carchevrolet monte carlo landau          \n",
              "carchevy c10                             \n",
              "carchevy s-10                            \n",
              "carchrysler cordoba                      \n",
              "carchrysler lebaron medallion            \n",
              "carchrysler lebaron salon                \n",
              "carchrysler lebaron town @ country (sw)  \n",
              "cardatsun 200-sx                         \n",
              "cardatsun 200sx                          \n",
              "cardatsun 210                            \n",
              "cardatsun 210 mpg                        \n",
              "cardatsun 280-zx                         \n",
              "cardatsun 310                            \n",
              "cardatsun 310 gx                         \n",
              "cardatsun 510                            \n",
              "cardatsun 510 hatchback                  \n",
              "cardatsun 810                            \n",
              "cardatsun 810 maxima                     \n",
              "cardatsun b-210                          \n",
              "cardatsun b210 gx                        \n",
              "cardatsun f-10 hatchback                 \n",
              "cardodge aries se                        \n",
              "cardodge aries wagon (sw)                \n",
              "cardodge aspen                           \n",
              "cardodge aspen 6                         \n",
              "cardodge aspen se                        \n",
              "cardodge charger 2.2                     \n",
              "cardodge colt                            \n",
              "cardodge colt hatchback custom           \n",
              "cardodge colt m/m                       .\n",
              "cardodge d100                            \n",
              "cardodge diplomat                        \n",
              "cardodge magnum xe                       \n",
              "cardodge monaco brougham                 \n",
              "cardodge omni                            \n",
              "cardodge rampage                         \n",
              "cardodge st. regis                       \n",
              "carfiat strada custom                    \n",
              "carford country squire (sw)              \n",
              "carford escort 2h                        \n",
              "carford escort 4w                        \n",
              "carford f108                             \n",
              "carford fairmont                         \n",
              "carford fairmont (auto)                  \n",
              "carford fairmont (man)                   \n",
              "carford fairmont 4                       \n",
              "carford fairmont futura                  \n",
              "carford fiesta                           \n",
              "carford futura                           \n",
              "carford granada                          \n",
              "carford granada ghia                     \n",
              "carford granada gl                       \n",
              "carford granada l                        \n",
              "carford ltd landau                       \n",
              "carford mustang cobra                    \n",
              "carford mustang gl                       \n",
              "carford mustang ii 2+2                   \n",
              "carford pinto                            \n",
              "carford ranger                           \n",
              "carford thunderbird                      \n",
              "carhonda accord                          \n",
              "carhonda accord cvcc                     \n",
              "carhonda accord lx                       \n",
              "carhonda civic                           \n",
              "carhonda civic (auto)                    \n",
              "carhonda civic 1300                      \n",
              "carhonda civic 1500 gl                   \n",
              "carhonda civic cvcc                      \n",
              "carhonda prelude                         \n",
              "carmaxda glc deluxe                      \n",
              "carmazda 626                             \n",
              "carmazda glc                             \n",
              "carmazda glc 4                           \n",
              "carmazda glc custom                      \n",
              "carmazda glc custom l                    \n",
              "carmazda glc deluxe                      \n",
              "carmazda rx-4                            \n",
              "carmazda rx-7 gs                         \n",
              "carmercedes-benz 240d                    \n",
              "carmercedes-benz 280s                    \n",
              "carmercedes benz 300d                    \n",
              "carmercury cougar brougham               \n",
              "carmercury grand marquis                 \n",
              "carmercury lynx l                        \n",
              "carmercury monarch ghia                  \n",
              "carmercury zephyr                        \n",
              "carmercury zephyr 6                      \n",
              "carnissan stanza xe                      \n",
              "caroldsmobile cutlass ciera (diesel)     \n",
              "caroldsmobile cutlass ls                 \n",
              "caroldsmobile cutlass salon brougham     \n",
              "caroldsmobile cutlass supreme            \n",
              "caroldsmobile omega brougham             \n",
              "caroldsmobile starfire sx                \n",
              "carpeugeot 504                           \n",
              "carpeugeot 505s turbo diesel             \n",
              "carpeugeot 604sl                         \n",
              "carplymouth arrow gs                     \n",
              "carplymouth champ                       .\n",
              "carplymouth horizon                      \n",
              "carplymouth horizon 4                    \n",
              "carplymouth horizon miser                \n",
              "carplymouth horizon tc3                  \n",
              "carplymouth reliant                      \n",
              "carplymouth sapporo                      \n",
              "carplymouth volare                       \n",
              "carplymouth volare custom                \n",
              "carplymouth volare premier v8            \n",
              "carpontiac grand prix lj                 \n",
              "carpontiac j2000 se hatchback            \n",
              "carpontiac lemans v6                     \n",
              "carpontiac phoenix                       \n",
              "carpontiac phoenix lj                    \n",
              "carpontiac sunbird coupe                 \n",
              "carpontiac ventura sj                    \n",
              "carrenault 18i                           \n",
              "carrenault 5 gtl                         \n",
              "carrenault lecar deluxe                 .\n",
              "carsaab 99gle                            \n",
              "carsubaru                                \n",
              "carsubaru dl                             \n",
              "cartoyota celica gt                      \n",
              "cartoyota celica gt liftback             \n",
              "cartoyota corolla                        \n",
              "cartoyota corolla liftback               \n",
              "cartoyota corolla tercel                 \n",
              "cartoyota corona                         \n",
              "cartoyota corona liftback                \n",
              "cartoyota cressida                       \n",
              "cartoyota mark ii                        \n",
              "cartoyota starlet                        \n",
              "cartoyota tercel                         \n",
              "cartriumph tr7 coupe                     \n",
              "carvokswagen rabbit                      \n",
              "carvolkswagen dasher                     \n",
              "carvolkswagen jetta                      \n",
              "carvolkswagen rabbit                     \n",
              "carvolkswagen rabbit custom              \n",
              "carvolkswagen rabbit custom diesel      *\n",
              "carvolkswagen rabbit l                   \n",
              "carvolkswagen scirocco                   \n",
              "carvolvo 245                             \n",
              "carvolvo 264gl                           \n",
              "carvolvo diesel                          \n",
              "carvw dasher (diesel)                   *\n",
              "carvw pickup                            .\n",
              "carvw rabbit                            *\n",
              "carvw rabbit c (diesel)                 *\n",
              "carvw rabbit custom                      \n",
              "---\n",
              "Signif. codes:  0 '***' 0.001 '**' 0.01 '*' 0.05 '.' 0.1 ' ' 1\n",
              "\n",
              "Residual standard error: 2.817 on 15 degrees of freedom\n",
              "Multiple R-squared:   0.99,\tAdjusted R-squared:  0.8675 \n",
              "F-statistic: 8.082 on 184 and 15 DF,  p-value: 2.193e-05\n"
            ]
          },
          "metadata": {},
          "output_type": "display_data"
        }
      ],
      "source": [
        "summary(full_model)"
      ]
    },
    {
      "cell_type": "code",
      "execution_count": 47,
      "id": "b49fbdf0",
      "metadata": {
        "vscode": {
          "languageId": "r"
        }
      },
      "outputs": [
        {
          "data": {
            "text/html": [
              "<table class=\"dataframe\">\n",
              "<caption>A data.frame: 6 × 2</caption>\n",
              "<thead>\n",
              "\t<tr><th></th><th scope=col>pred</th><th scope=col>real</th></tr>\n",
              "\t<tr><th></th><th scope=col>&lt;dbl&gt;</th><th scope=col>&lt;dbl&gt;</th></tr>\n",
              "</thead>\n",
              "<tbody>\n",
              "\t<tr><th scope=row>1</th><td>33.43723</td><td>33.0</td></tr>\n",
              "\t<tr><th scope=row>2</th><td>20.00000</td><td>20.0</td></tr>\n",
              "\t<tr><th scope=row>3</th><td>18.00000</td><td>18.0</td></tr>\n",
              "\t<tr><th scope=row>4</th><td>18.50000</td><td>18.5</td></tr>\n",
              "\t<tr><th scope=row>5</th><td>17.50000</td><td>17.5</td></tr>\n",
              "\t<tr><th scope=row>6</th><td>29.50000</td><td>29.5</td></tr>\n",
              "</tbody>\n",
              "</table>\n"
            ],
            "text/latex": [
              "A data.frame: 6 × 2\n",
              "\\begin{tabular}{r|ll}\n",
              "  & pred & real\\\\\n",
              "  & <dbl> & <dbl>\\\\\n",
              "\\hline\n",
              "\t1 & 33.43723 & 33.0\\\\\n",
              "\t2 & 20.00000 & 20.0\\\\\n",
              "\t3 & 18.00000 & 18.0\\\\\n",
              "\t4 & 18.50000 & 18.5\\\\\n",
              "\t5 & 17.50000 & 17.5\\\\\n",
              "\t6 & 29.50000 & 29.5\\\\\n",
              "\\end{tabular}\n"
            ],
            "text/markdown": [
              "\n",
              "A data.frame: 6 × 2\n",
              "\n",
              "| <!--/--> | pred &lt;dbl&gt; | real &lt;dbl&gt; |\n",
              "|---|---|---|\n",
              "| 1 | 33.43723 | 33.0 |\n",
              "| 2 | 20.00000 | 20.0 |\n",
              "| 3 | 18.00000 | 18.0 |\n",
              "| 4 | 18.50000 | 18.5 |\n",
              "| 5 | 17.50000 | 17.5 |\n",
              "| 6 | 29.50000 | 29.5 |\n",
              "\n"
            ],
            "text/plain": [
              "  pred     real\n",
              "1 33.43723 33.0\n",
              "2 20.00000 20.0\n",
              "3 18.00000 18.0\n",
              "4 18.50000 18.5\n",
              "5 17.50000 17.5\n",
              "6 29.50000 29.5"
            ]
          },
          "metadata": {},
          "output_type": "display_data"
        }
      ],
      "source": [
        "pred <- predict(full_model, df)\n",
        "\n",
        "res <- cbind(pred, df$mpg)\n",
        "colnames(res) <- c('pred','real')\n",
        "res <- as.data.frame(res)\n",
        "\n",
        "head(res)"
      ]
    },
    {
      "cell_type": "code",
      "execution_count": 48,
      "id": "d414d978",
      "metadata": {
        "vscode": {
          "languageId": "r"
        }
      },
      "outputs": [
        {
          "data": {
            "text/html": [
              "0.867522265309622"
            ],
            "text/latex": [
              "0.867522265309622"
            ],
            "text/markdown": [
              "0.867522265309622"
            ],
            "text/plain": [
              "[1] 0.8675223"
            ]
          },
          "metadata": {},
          "output_type": "display_data"
        }
      ],
      "source": [
        "summary(full_model)$adj.r.squared"
      ]
    },
    {
      "cell_type": "code",
      "execution_count": 49,
      "id": "f10e9586",
      "metadata": {
        "vscode": {
          "languageId": "r"
        }
      },
      "outputs": [
        {
          "data": {
            "text/html": [
              "0.245739175300132"
            ],
            "text/latex": [
              "0.245739175300132"
            ],
            "text/markdown": [
              "0.245739175300132"
            ],
            "text/plain": [
              "[1] 0.2457392"
            ]
          },
          "metadata": {},
          "output_type": "display_data"
        },
        {
          "data": {
            "text/html": [
              "0.595079709715414"
            ],
            "text/latex": [
              "0.595079709715414"
            ],
            "text/markdown": [
              "0.595079709715414"
            ],
            "text/plain": [
              "[1] 0.5950797"
            ]
          },
          "metadata": {},
          "output_type": "display_data"
        },
        {
          "data": {
            "text/html": [
              "0.771414097431084"
            ],
            "text/latex": [
              "0.771414097431084"
            ],
            "text/markdown": [
              "0.771414097431084"
            ],
            "text/plain": [
              "[1] 0.7714141"
            ]
          },
          "metadata": {},
          "output_type": "display_data"
        }
      ],
      "source": [
        "mae(res$real, res$pred)\n",
        "mse(res$real, res$pred)\n",
        "rmse(res$real, res$pred)"
      ]
    },
    {
      "cell_type": "markdown",
      "id": "d260fd31",
      "metadata": {},
      "source": [
        "# krokowa wsteczna"
      ]
    },
    {
      "cell_type": "code",
      "execution_count": 50,
      "id": "cd657a6a",
      "metadata": {
        "vscode": {
          "languageId": "r"
        }
      },
      "outputs": [
        {
          "name": "stdout",
          "output_type": "stream",
          "text": [
            "Start:  AIC=266.19\n",
            "mpg ~ cylinders + displacement + horsepower + weight + acceleration + \n",
            "    model + origin + car\n",
            "\n",
            "\n",
            "Step:  AIC=266.19\n",
            "mpg ~ cylinders + displacement + horsepower + weight + acceleration + \n",
            "    model + car\n",
            "\n",
            "                Df Sum of Sq     RSS    AIC\n",
            "- horsepower     1      0.64  119.66 265.27\n",
            "- acceleration   1      1.03  120.05 265.91\n",
            "<none>                        119.02 266.19\n",
            "- displacement   1      6.33  125.35 274.55\n",
            "- cylinders      1      9.37  128.39 279.35\n",
            "- weight         1     13.20  132.22 285.22\n",
            "- model          1     51.19  170.21 335.74\n",
            "- car          178   2322.44 2441.46 514.41\n",
            "\n",
            "Step:  AIC=265.27\n",
            "mpg ~ cylinders + displacement + weight + acceleration + model + \n",
            "    car\n",
            "\n",
            "                Df Sum of Sq     RSS    AIC\n",
            "<none>                        119.66 265.27\n",
            "- acceleration   1      1.54  121.20 265.82\n",
            "- displacement   1      5.70  125.36 272.57\n",
            "- cylinders      1      9.56  129.22 278.64\n",
            "- weight         1     12.75  132.41 283.51\n",
            "- model          1     50.59  170.25 333.78\n",
            "- car          178   2336.71 2456.37 513.62\n"
          ]
        }
      ],
      "source": [
        "model_back <- step(full_model, direction = \"backward\")"
      ]
    },
    {
      "cell_type": "code",
      "execution_count": 51,
      "id": "eefbafc0",
      "metadata": {
        "vscode": {
          "languageId": "r"
        }
      },
      "outputs": [
        {
          "data": {
            "text/plain": [
              "\n",
              "Call:\n",
              "lm(formula = mpg ~ cylinders + displacement + weight + acceleration + \n",
              "    model + car, data = df)\n",
              "\n",
              "Residuals:\n",
              "   Min     1Q Median     3Q    Max \n",
              " -4.38   0.00   0.00   0.00   4.38 \n",
              "\n",
              "Coefficients:\n",
              "                                          Estimate Std. Error t value Pr(>|t|)\n",
              "(Intercept)                             -22.097612  29.289041  -0.754 0.461530\n",
              "cylinders                                -2.371713   2.097794  -1.131 0.274897\n",
              "displacement                              0.066599   0.076317   0.873 0.395757\n",
              "weight                                   -0.006749   0.005169  -1.306 0.210154\n",
              "acceleration                             -0.155614   0.343068  -0.454 0.656211\n",
              "model                                     0.847076   0.325704   2.601 0.019311\n",
              "caramc concord d/l                       -3.464290   4.347699  -0.797 0.437226\n",
              "caramc concord dl                        -1.260319   3.765143  -0.335 0.742174\n",
              "caramc concord dl 6                      -0.975927   3.641461  -0.268 0.792120\n",
              "caramc pacer d/l                         -3.414410   4.718875  -0.724 0.479779\n",
              "caramc spirit dl                          4.359786   4.473778   0.975 0.344303\n",
              "caraudi 4000                              8.882786   5.018723   1.770 0.095789\n",
              "caraudi 5000                              1.032402   5.070656   0.204 0.841230\n",
              "caraudi 5000s (diesel)                   17.536519   5.903255   2.971 0.009014\n",
              "carbmw 320i                              -0.660810   4.768396  -0.139 0.891510\n",
              "carbuick century                          0.235325   3.768578   0.062 0.950983\n",
              "carbuick century limited                  2.239755   4.269577   0.525 0.607064\n",
              "carbuick century special                  0.740354   3.617489   0.205 0.840419\n",
              "carbuick estate wagon (sw)               -0.515062   6.138009  -0.084 0.934166\n",
              "carbuick opel isuzu deluxe                5.813314   4.855081   1.197 0.248603\n",
              "carbuick regal sport coupe (turbo)       -2.094466   3.883675  -0.539 0.597105\n",
              "carbuick skylark                          0.905809   2.832071   0.320 0.753228\n",
              "carbuick skylark limited                  3.517434   3.840063   0.916 0.373275\n",
              "carcadillac eldorado                      2.869652   6.506705   0.441 0.665093\n",
              "carcadillac seville                       1.325416   6.220571   0.213 0.833964\n",
              "carchevrolet camaro                       1.668092   3.787545   0.440 0.665529\n",
              "carchevrolet caprice classic              0.156868   4.525893   0.035 0.972780\n",
              "carchevrolet cavalier                     3.295120   4.558064   0.723 0.480164\n",
              "carchevrolet cavalier 2-door              7.628947   4.466906   1.708 0.106984\n",
              "carchevrolet cavalier wagon               2.375704   4.600765   0.516 0.612658\n",
              "carchevrolet chevette                     6.342258   4.512170   1.406 0.178967\n",
              "carchevrolet citation                     2.801308   3.459957   0.810 0.430026\n",
              "carchevrolet concours                    -1.739787   3.906493  -0.445 0.662028\n",
              "carchevrolet malibu                       1.559975   3.739132   0.417 0.682075\n",
              "carchevrolet malibu classic (sw)          2.233070   4.795464   0.466 0.647732\n",
              "carchevrolet monte carlo landau          -1.513487   5.341160  -0.283 0.780532\n",
              "carchevy c10                             -4.383416   6.328321  -0.693 0.498450\n",
              "carchevy s-10                             6.573885   4.399240   1.494 0.154551\n",
              "carchrysler cordoba                      -4.207211   8.602218  -0.489 0.631419\n",
              "carchrysler lebaron medallion            -2.563833   4.272075  -0.600 0.556820\n",
              "carchrysler lebaron salon                -3.703164   3.760302  -0.985 0.339379\n",
              "carchrysler lebaron town @ country (sw)  -2.711098   7.035612  -0.385 0.705061\n",
              "cardatsun 200-sx                          0.036139   4.459372   0.008 0.993634\n",
              "cardatsun 200sx                           7.896541   4.512376   1.750 0.099273\n",
              "cardatsun 210                            11.804530   5.088301   2.320 0.033889\n",
              "cardatsun 210 mpg                        10.657672   5.492947   1.940 0.070183\n",
              "cardatsun 280-zx                         11.485424   4.945020   2.323 0.033710\n",
              "cardatsun 310                            11.468242   5.420316   2.116 0.050396\n",
              "cardatsun 310 gx                         10.048009   5.328889   1.886 0.077644\n",
              "cardatsun 510                             2.596422   4.540165   0.572 0.575352\n",
              "cardatsun 510 hatchback                  11.653257   4.405971   2.645 0.017653\n",
              "cardatsun 810                             4.633120   5.618577   0.825 0.421718\n",
              "cardatsun 810 maxima                      4.111968   5.889716   0.698 0.495099\n",
              "cardatsun b-210                           9.620805   5.629503   1.709 0.106773\n",
              "cardatsun b210 gx                        16.115518   5.478087   2.942 0.009572\n",
              "cardatsun f-10 hatchback                  9.938923   5.590354   1.778 0.094434\n",
              "cardodge aries se                         1.663253   4.074442   0.408 0.688526\n",
              "cardodge aries wagon (sw)                -1.696121   4.173689  -0.406 0.689844\n",
              "cardodge aspen                           -0.192651   3.130022  -0.062 0.951684\n",
              "cardodge aspen 6                          0.282392   3.564607   0.079 0.937839\n",
              "cardodge aspen se                         4.358615   4.018422   1.085 0.294147\n",
              "cardodge charger 2.2                      7.150389   4.615741   1.549 0.140902\n",
              "cardodge colt                             2.465689   3.981625   0.619 0.544458\n",
              "cardodge colt hatchback custom            9.003056   5.345197   1.684 0.111522\n",
              "cardodge colt m/m                         9.810393   5.142602   1.908 0.074547\n",
              "cardodge d100                            -3.965581   5.248934  -0.756 0.460926\n",
              "cardodge diplomat                         0.480806   5.361214   0.090 0.929653\n",
              "cardodge magnum xe                        0.986854   5.226926   0.189 0.852622\n",
              "cardodge monaco brougham                  0.238841   5.237281   0.046 0.964190\n",
              "cardodge omni                             6.725286   4.900205   1.372 0.188858\n",
              "cardodge rampage                          2.426390   4.957473   0.489 0.631172\n",
              "cardodge st. regis                       -0.613932   5.257160  -0.117 0.908488\n",
              "carfiat strada custom                    12.566865   5.311948   2.366 0.030954\n",
              "carford country squire (sw)              -4.140078   6.353748  -0.652 0.523912\n",
              "carford escort 2h                         5.627337   4.996460   1.126 0.276663\n",
              "carford escort 4w                         7.166318   5.076725   1.412 0.177218\n",
              "carford f108                             -1.968304   4.812622  -0.409 0.687971\n",
              "carford fairmont                          3.079440   3.835613   0.803 0.433824\n",
              "carford fairmont (auto)                  -0.395718   3.701504  -0.107 0.916191\n",
              "carford fairmont (man)                    2.041155   3.991557   0.511 0.616078\n",
              "carford fairmont 4                       -0.163005   3.920704  -0.042 0.967352\n",
              "carford fairmont futura                  -1.312998   4.010823  -0.327 0.747637\n",
              "carford fiesta                            9.474052   5.577105   1.699 0.108726\n",
              "carford futura                           -3.641558   5.882670  -0.619 0.544610\n",
              "carford granada                          -0.301448   3.885098  -0.078 0.939116\n",
              "carford granada ghia                      0.687533   4.036855   0.170 0.866898\n",
              "carford granada gl                       -2.093537   3.775731  -0.554 0.586923\n",
              "carford granada l                        -5.163669   4.830202  -1.069 0.300916\n",
              "carford ltd landau                       -1.137050   4.969072  -0.229 0.821904\n",
              "carford mustang cobra                    -0.075695   4.262425  -0.018 0.986051\n",
              "carford mustang gl                        1.056372   4.031705   0.262 0.796652\n",
              "carford mustang ii 2+2                    3.586675   4.022108   0.892 0.385747\n",
              "carford pinto                             3.809180   4.370626   0.872 0.396348\n",
              "carford ranger                            2.741685   4.267517   0.642 0.529677\n",
              "carford thunderbird                      -0.018469   6.101779  -0.003 0.997622\n",
              "carhonda accord                           7.663478   4.304253   1.780 0.093998\n",
              "carhonda accord cvcc                      8.012534   5.144981   1.557 0.138945\n",
              "carhonda accord lx                        5.477158   5.022057   1.091 0.291593\n",
              "carhonda civic                            9.313156   5.081841   1.833 0.085533\n",
              "carhonda civic (auto)                     3.767746   5.380015   0.700 0.493784\n",
              "carhonda civic 1300                       7.059609   5.829920   1.211 0.243507\n",
              "carhonda civic 1500 gl                   16.990150   5.600590   3.034 0.007905\n",
              "carhonda civic cvcc                      10.251472   5.589223   1.834 0.085298\n",
              "carhonda prelude                          6.700330   4.850434   1.381 0.186148\n",
              "carmaxda glc deluxe                       8.731646   5.506963   1.586 0.132402\n",
              "carmazda 626                              7.107048   3.752789   1.894 0.076477\n",
              "carmazda glc                             21.715779   5.368682   4.045 0.000939\n",
              "carmazda glc 4                            6.896476   5.317641   1.297 0.213055\n",
              "carmazda glc custom                       3.097155   5.322950   0.582 0.568776\n",
              "carmazda glc custom l                     9.561692   5.268197   1.815 0.088317\n",
              "carmazda glc deluxe                       9.532577   5.793424   1.645 0.119384\n",
              "carmazda rx-4                             0.616784   6.159304   0.100 0.921478\n",
              "carmazda rx-7 gs                         -1.238625   6.032038  -0.205 0.839895\n",
              "carmercedes-benz 240d                     9.420058   4.386174   2.148 0.047404\n",
              "carmercedes-benz 280s                     5.639638   7.386164   0.764 0.456253\n",
              "carmercedes benz 300d                     7.199731   4.297497   1.675 0.113299\n",
              "carmercury cougar brougham                2.037181   5.429140   0.375 0.712416\n",
              "carmercury grand marquis                 -3.979357   6.536742  -0.609 0.551224\n",
              "carmercury lynx l                         8.630300   4.999419   1.726 0.103555\n",
              "carmercury monarch ghia                   1.170636   5.068491   0.231 0.820271\n",
              "carmercury zephyr                         1.052929   3.673862   0.287 0.778096\n",
              "carmercury zephyr 6                      -1.100607   3.713845  -0.296 0.770773\n",
              "carnissan stanza xe                       6.965604   4.772842   1.459 0.163803\n",
              "caroldsmobile cutlass ciera (diesel)     10.411011   5.666793   1.837 0.084826\n",
              "caroldsmobile cutlass ls                  3.843491   7.073133   0.543 0.594350\n",
              "caroldsmobile cutlass salon brougham      4.987853   4.574679   1.090 0.291722\n",
              "caroldsmobile cutlass supreme             5.886449   6.021019   0.978 0.342799\n",
              "caroldsmobile omega brougham              4.915736   4.455806   1.103 0.286249\n",
              "caroldsmobile starfire sx                 1.261969   3.686728   0.342 0.736580\n",
              "carpeugeot 504                            5.776261   4.893345   1.180 0.255080\n",
              "carpeugeot 505s turbo diesel              6.653147   4.515013   1.474 0.160001\n",
              "carpeugeot 604sl                          1.071533   6.107536   0.175 0.862932\n",
              "carplymouth arrow gs                      1.668192   4.484103   0.372 0.714757\n",
              "carplymouth champ                        11.449379   5.551207   2.063 0.055785\n",
              "carplymouth horizon                       8.773457   5.017821   1.748 0.099541\n",
              "carplymouth horizon 4                     7.945077   4.850209   1.638 0.120916\n",
              "carplymouth horizon miser                 9.759511   4.973972   1.962 0.067384\n",
              "carplymouth horizon tc3                   9.000574   4.889346   1.841 0.084263\n",
              "carplymouth reliant                       1.255289   3.836388   0.327 0.747754\n",
              "carplymouth sapporo                      -0.553416   3.762367  -0.147 0.884897\n",
              "carplymouth volare                        1.595233   3.584710   0.445 0.662274\n",
              "carplymouth volare custom                 2.369821   3.921640   0.604 0.554122\n",
              "carplymouth volare premier v8            -2.841595   5.174590  -0.549 0.590489\n",
              "carpontiac grand prix lj                 -4.586982   8.856034  -0.518 0.611581\n",
              "carpontiac j2000 se hatchback             5.563576   4.633887   1.201 0.247370\n",
              "carpontiac lemans v6                     -0.180018   3.706138  -0.049 0.961861\n",
              "carpontiac phoenix                        3.869236   3.407601   1.135 0.272901\n",
              "carpontiac phoenix lj                     0.915463   3.685110   0.248 0.806968\n",
              "carpontiac sunbird coupe                  1.783982   3.878949   0.460 0.651766\n",
              "carpontiac ventura sj                     0.919731   3.972718   0.232 0.819852\n",
              "carrenault 18i                            8.926719   4.925329   1.812 0.088730\n",
              "carrenault 5 gtl                         12.308798   5.897404   2.087 0.053229\n",
              "carrenault lecar deluxe                  14.133165   5.607315   2.520 0.022717\n",
              "carsaab 99gle                             0.359357   4.627095   0.078 0.939059\n",
              "carsubaru                                 5.516870   5.043092   1.094 0.290175\n",
              "carsubaru dl                              7.141191   4.686721   1.524 0.147102\n",
              "cartoyota celica gt                       4.681867   4.200723   1.115 0.281511\n",
              "cartoyota celica gt liftback             -3.036068   4.174110  -0.727 0.477516\n",
              "cartoyota corolla                         6.420527   4.081770   1.573 0.135288\n",
              "cartoyota corolla liftback                4.017124   5.062830   0.793 0.439122\n",
              "cartoyota corolla tercel                 12.197744   5.360477   2.275 0.036982\n",
              "cartoyota corona                          3.574248   4.226563   0.846 0.410210\n",
              "cartoyota corona liftback                 5.401422   4.057864   1.331 0.201813\n",
              "cartoyota cressida                        3.457600   4.847470   0.713 0.485947\n",
              "cartoyota mark ii                         2.745901   5.305156   0.518 0.611826\n",
              "cartoyota starlet                        11.283555   5.870920   1.922 0.072606\n",
              "cartoyota tercel                         11.270626   5.290742   2.130 0.049018\n",
              "cartriumph tr7 coupe                      9.914424   4.320639   2.295 0.035617\n",
              "carvokswagen rabbit                       2.523027   5.553260   0.454 0.655692\n",
              "carvolkswagen dasher                      7.372967   5.230538   1.410 0.177799\n",
              "carvolkswagen jetta                       5.967434   4.928329   1.211 0.243538\n",
              "carvolkswagen rabbit                      4.461164   5.813051   0.767 0.453997\n",
              "carvolkswagen rabbit custom               4.248081   5.387405   0.789 0.441919\n",
              "carvolkswagen rabbit custom diesel       19.360180   5.520440   3.507 0.002920\n",
              "carvolkswagen rabbit l                    6.874344   5.133669   1.339 0.199262\n",
              "carvolkswagen scirocco                    6.833468   5.453130   1.253 0.228164\n",
              "carvolvo 245                              2.249845   5.217189   0.431 0.672050\n",
              "carvolvo 264gl                           -0.292919   5.404708  -0.054 0.957449\n",
              "carvolvo diesel                          13.133289   6.509219   2.018 0.060723\n",
              "carvw dasher (diesel)                    20.670363   5.581872   3.703 0.001930\n",
              "carvw pickup                             17.866624   5.472160   3.265 0.004865\n",
              "carvw rabbit                             15.548077   5.077406   3.062 0.007446\n",
              "carvw rabbit c (diesel)                  19.572004   5.390436   3.631 0.002248\n",
              "carvw rabbit custom                       5.807686   5.541365   1.048 0.310185\n",
              "                                           \n",
              "(Intercept)                                \n",
              "cylinders                                  \n",
              "displacement                               \n",
              "weight                                     \n",
              "acceleration                               \n",
              "model                                   *  \n",
              "caramc concord d/l                         \n",
              "caramc concord dl                          \n",
              "caramc concord dl 6                        \n",
              "caramc pacer d/l                           \n",
              "caramc spirit dl                           \n",
              "caraudi 4000                            .  \n",
              "caraudi 5000                               \n",
              "caraudi 5000s (diesel)                  ** \n",
              "carbmw 320i                                \n",
              "carbuick century                           \n",
              "carbuick century limited                   \n",
              "carbuick century special                   \n",
              "carbuick estate wagon (sw)                 \n",
              "carbuick opel isuzu deluxe                 \n",
              "carbuick regal sport coupe (turbo)         \n",
              "carbuick skylark                           \n",
              "carbuick skylark limited                   \n",
              "carcadillac eldorado                       \n",
              "carcadillac seville                        \n",
              "carchevrolet camaro                        \n",
              "carchevrolet caprice classic               \n",
              "carchevrolet cavalier                      \n",
              "carchevrolet cavalier 2-door               \n",
              "carchevrolet cavalier wagon                \n",
              "carchevrolet chevette                      \n",
              "carchevrolet citation                      \n",
              "carchevrolet concours                      \n",
              "carchevrolet malibu                        \n",
              "carchevrolet malibu classic (sw)           \n",
              "carchevrolet monte carlo landau            \n",
              "carchevy c10                               \n",
              "carchevy s-10                              \n",
              "carchrysler cordoba                        \n",
              "carchrysler lebaron medallion              \n",
              "carchrysler lebaron salon                  \n",
              "carchrysler lebaron town @ country (sw)    \n",
              "cardatsun 200-sx                           \n",
              "cardatsun 200sx                         .  \n",
              "cardatsun 210                           *  \n",
              "cardatsun 210 mpg                       .  \n",
              "cardatsun 280-zx                        *  \n",
              "cardatsun 310                           .  \n",
              "cardatsun 310 gx                        .  \n",
              "cardatsun 510                              \n",
              "cardatsun 510 hatchback                 *  \n",
              "cardatsun 810                              \n",
              "cardatsun 810 maxima                       \n",
              "cardatsun b-210                            \n",
              "cardatsun b210 gx                       ** \n",
              "cardatsun f-10 hatchback                .  \n",
              "cardodge aries se                          \n",
              "cardodge aries wagon (sw)                  \n",
              "cardodge aspen                             \n",
              "cardodge aspen 6                           \n",
              "cardodge aspen se                          \n",
              "cardodge charger 2.2                       \n",
              "cardodge colt                              \n",
              "cardodge colt hatchback custom             \n",
              "cardodge colt m/m                       .  \n",
              "cardodge d100                              \n",
              "cardodge diplomat                          \n",
              "cardodge magnum xe                         \n",
              "cardodge monaco brougham                   \n",
              "cardodge omni                              \n",
              "cardodge rampage                           \n",
              "cardodge st. regis                         \n",
              "carfiat strada custom                   *  \n",
              "carford country squire (sw)                \n",
              "carford escort 2h                          \n",
              "carford escort 4w                          \n",
              "carford f108                               \n",
              "carford fairmont                           \n",
              "carford fairmont (auto)                    \n",
              "carford fairmont (man)                     \n",
              "carford fairmont 4                         \n",
              "carford fairmont futura                    \n",
              "carford fiesta                             \n",
              "carford futura                             \n",
              "carford granada                            \n",
              "carford granada ghia                       \n",
              "carford granada gl                         \n",
              "carford granada l                          \n",
              "carford ltd landau                         \n",
              "carford mustang cobra                      \n",
              "carford mustang gl                         \n",
              "carford mustang ii 2+2                     \n",
              "carford pinto                              \n",
              "carford ranger                             \n",
              "carford thunderbird                        \n",
              "carhonda accord                         .  \n",
              "carhonda accord cvcc                       \n",
              "carhonda accord lx                         \n",
              "carhonda civic                          .  \n",
              "carhonda civic (auto)                      \n",
              "carhonda civic 1300                        \n",
              "carhonda civic 1500 gl                  ** \n",
              "carhonda civic cvcc                     .  \n",
              "carhonda prelude                           \n",
              "carmaxda glc deluxe                        \n",
              "carmazda 626                            .  \n",
              "carmazda glc                            ***\n",
              "carmazda glc 4                             \n",
              "carmazda glc custom                        \n",
              "carmazda glc custom l                   .  \n",
              "carmazda glc deluxe                        \n",
              "carmazda rx-4                              \n",
              "carmazda rx-7 gs                           \n",
              "carmercedes-benz 240d                   *  \n",
              "carmercedes-benz 280s                      \n",
              "carmercedes benz 300d                      \n",
              "carmercury cougar brougham                 \n",
              "carmercury grand marquis                   \n",
              "carmercury lynx l                          \n",
              "carmercury monarch ghia                    \n",
              "carmercury zephyr                          \n",
              "carmercury zephyr 6                        \n",
              "carnissan stanza xe                        \n",
              "caroldsmobile cutlass ciera (diesel)    .  \n",
              "caroldsmobile cutlass ls                   \n",
              "caroldsmobile cutlass salon brougham       \n",
              "caroldsmobile cutlass supreme              \n",
              "caroldsmobile omega brougham               \n",
              "caroldsmobile starfire sx                  \n",
              "carpeugeot 504                             \n",
              "carpeugeot 505s turbo diesel               \n",
              "carpeugeot 604sl                           \n",
              "carplymouth arrow gs                       \n",
              "carplymouth champ                       .  \n",
              "carplymouth horizon                     .  \n",
              "carplymouth horizon 4                      \n",
              "carplymouth horizon miser               .  \n",
              "carplymouth horizon tc3                 .  \n",
              "carplymouth reliant                        \n",
              "carplymouth sapporo                        \n",
              "carplymouth volare                         \n",
              "carplymouth volare custom                  \n",
              "carplymouth volare premier v8              \n",
              "carpontiac grand prix lj                   \n",
              "carpontiac j2000 se hatchback              \n",
              "carpontiac lemans v6                       \n",
              "carpontiac phoenix                         \n",
              "carpontiac phoenix lj                      \n",
              "carpontiac sunbird coupe                   \n",
              "carpontiac ventura sj                      \n",
              "carrenault 18i                          .  \n",
              "carrenault 5 gtl                        .  \n",
              "carrenault lecar deluxe                 *  \n",
              "carsaab 99gle                              \n",
              "carsubaru                                  \n",
              "carsubaru dl                               \n",
              "cartoyota celica gt                        \n",
              "cartoyota celica gt liftback               \n",
              "cartoyota corolla                          \n",
              "cartoyota corolla liftback                 \n",
              "cartoyota corolla tercel                *  \n",
              "cartoyota corona                           \n",
              "cartoyota corona liftback                  \n",
              "cartoyota cressida                         \n",
              "cartoyota mark ii                          \n",
              "cartoyota starlet                       .  \n",
              "cartoyota tercel                        *  \n",
              "cartriumph tr7 coupe                    *  \n",
              "carvokswagen rabbit                        \n",
              "carvolkswagen dasher                       \n",
              "carvolkswagen jetta                        \n",
              "carvolkswagen rabbit                       \n",
              "carvolkswagen rabbit custom                \n",
              "carvolkswagen rabbit custom diesel      ** \n",
              "carvolkswagen rabbit l                     \n",
              "carvolkswagen scirocco                     \n",
              "carvolvo 245                               \n",
              "carvolvo 264gl                             \n",
              "carvolvo diesel                         .  \n",
              "carvw dasher (diesel)                   ** \n",
              "carvw pickup                            ** \n",
              "carvw rabbit                            ** \n",
              "carvw rabbit c (diesel)                 ** \n",
              "carvw rabbit custom                        \n",
              "---\n",
              "Signif. codes:  0 '***' 0.001 '**' 0.01 '*' 0.05 '.' 0.1 ' ' 1\n",
              "\n",
              "Residual standard error: 2.735 on 16 degrees of freedom\n",
              "Multiple R-squared:   0.99,\tAdjusted R-squared:  0.8751 \n",
              "F-statistic: 8.621 on 183 and 16 DF,  p-value: 7.561e-06\n"
            ]
          },
          "metadata": {},
          "output_type": "display_data"
        }
      ],
      "source": [
        "summary(model_back)"
      ]
    },
    {
      "cell_type": "code",
      "execution_count": 55,
      "id": "e31f40e1",
      "metadata": {
        "vscode": {
          "languageId": "r"
        }
      },
      "outputs": [
        {
          "data": {
            "text/html": [
              "<table class=\"dataframe\">\n",
              "<caption>A data.frame: 6 × 2</caption>\n",
              "<thead>\n",
              "\t<tr><th></th><th scope=col>pred</th><th scope=col>real</th></tr>\n",
              "\t<tr><th></th><th scope=col>&lt;dbl&gt;</th><th scope=col>&lt;dbl&gt;</th></tr>\n",
              "</thead>\n",
              "<tbody>\n",
              "\t<tr><th scope=row>1</th><td>33.34566</td><td>33.0</td></tr>\n",
              "\t<tr><th scope=row>2</th><td>20.00000</td><td>20.0</td></tr>\n",
              "\t<tr><th scope=row>3</th><td>18.00000</td><td>18.0</td></tr>\n",
              "\t<tr><th scope=row>4</th><td>18.50000</td><td>18.5</td></tr>\n",
              "\t<tr><th scope=row>5</th><td>17.50000</td><td>17.5</td></tr>\n",
              "\t<tr><th scope=row>6</th><td>29.50000</td><td>29.5</td></tr>\n",
              "</tbody>\n",
              "</table>\n"
            ],
            "text/latex": [
              "A data.frame: 6 × 2\n",
              "\\begin{tabular}{r|ll}\n",
              "  & pred & real\\\\\n",
              "  & <dbl> & <dbl>\\\\\n",
              "\\hline\n",
              "\t1 & 33.34566 & 33.0\\\\\n",
              "\t2 & 20.00000 & 20.0\\\\\n",
              "\t3 & 18.00000 & 18.0\\\\\n",
              "\t4 & 18.50000 & 18.5\\\\\n",
              "\t5 & 17.50000 & 17.5\\\\\n",
              "\t6 & 29.50000 & 29.5\\\\\n",
              "\\end{tabular}\n"
            ],
            "text/markdown": [
              "\n",
              "A data.frame: 6 × 2\n",
              "\n",
              "| <!--/--> | pred &lt;dbl&gt; | real &lt;dbl&gt; |\n",
              "|---|---|---|\n",
              "| 1 | 33.34566 | 33.0 |\n",
              "| 2 | 20.00000 | 20.0 |\n",
              "| 3 | 18.00000 | 18.0 |\n",
              "| 4 | 18.50000 | 18.5 |\n",
              "| 5 | 17.50000 | 17.5 |\n",
              "| 6 | 29.50000 | 29.5 |\n",
              "\n"
            ],
            "text/plain": [
              "  pred     real\n",
              "1 33.34566 33.0\n",
              "2 20.00000 20.0\n",
              "3 18.00000 18.0\n",
              "4 18.50000 18.5\n",
              "5 17.50000 17.5\n",
              "6 29.50000 29.5"
            ]
          },
          "metadata": {},
          "output_type": "display_data"
        }
      ],
      "source": [
        "pred_back <- predict(model_back, df)\n",
        "\n",
        "res_back <- cbind(pred_back, df$mpg)\n",
        "colnames(res_back) <- c('pred','real')\n",
        "res_back <- as.data.frame(res_back)\n",
        "\n",
        "head(res_back)"
      ]
    },
    {
      "cell_type": "code",
      "execution_count": 56,
      "id": "a850abc5",
      "metadata": {
        "vscode": {
          "languageId": "r"
        }
      },
      "outputs": [
        {
          "data": {
            "text/html": [
              "0.875130118079172"
            ],
            "text/latex": [
              "0.875130118079172"
            ],
            "text/markdown": [
              "0.875130118079172"
            ],
            "text/plain": [
              "[1] 0.8751301"
            ]
          },
          "metadata": {},
          "output_type": "display_data"
        }
      ],
      "source": [
        "summary(model_back)$adj.r.squared"
      ]
    },
    {
      "cell_type": "code",
      "execution_count": 57,
      "id": "66bd9c29",
      "metadata": {
        "vscode": {
          "languageId": "r"
        }
      },
      "outputs": [
        {
          "data": {
            "text/html": [
              "0.250368615253985"
            ],
            "text/latex": [
              "0.250368615253985"
            ],
            "text/markdown": [
              "0.250368615253985"
            ],
            "text/plain": [
              "[1] 0.2503686"
            ]
          },
          "metadata": {},
          "output_type": "display_data"
        },
        {
          "data": {
            "text/html": [
              "0.598299546787499"
            ],
            "text/latex": [
              "0.598299546787499"
            ],
            "text/markdown": [
              "0.598299546787499"
            ],
            "text/plain": [
              "[1] 0.5982995"
            ]
          },
          "metadata": {},
          "output_type": "display_data"
        },
        {
          "data": {
            "text/html": [
              "0.773498252607916"
            ],
            "text/latex": [
              "0.773498252607916"
            ],
            "text/markdown": [
              "0.773498252607916"
            ],
            "text/plain": [
              "[1] 0.7734983"
            ]
          },
          "metadata": {},
          "output_type": "display_data"
        }
      ],
      "source": [
        "mae(res_back$real, res_back$pred)\n",
        "mse(res_back$real, res_back$pred)\n",
        "rmse(res_back$real, res_back$pred)"
      ]
    },
    {
      "cell_type": "markdown",
      "id": "c66b1a6d",
      "metadata": {},
      "source": [
        "# krokowa postępująca"
      ]
    },
    {
      "cell_type": "code",
      "execution_count": 52,
      "id": "d077af08",
      "metadata": {
        "vscode": {
          "languageId": "r"
        }
      },
      "outputs": [],
      "source": [
        "min_model <- lm(mpg ~ 1, data = df)"
      ]
    },
    {
      "cell_type": "code",
      "execution_count": 53,
      "id": "7ecb0704",
      "metadata": {
        "vscode": {
          "languageId": "r"
        }
      },
      "outputs": [
        {
          "name": "stdout",
          "output_type": "stream",
          "text": [
            "Start:  AIC=819.51\n",
            "mpg ~ 1\n",
            "\n",
            "                Df Sum of Sq     RSS    AIC\n",
            "+ car          178   11709.0   209.6 367.34\n",
            "+ weight         1    8608.3  3310.3 565.29\n",
            "+ displacement   1    7202.4  4716.2 636.09\n",
            "+ cylinders      1    6189.6  5729.0 674.99\n",
            "+ model          1    3028.9  8889.6 762.86\n",
            "+ origin         1    2994.7  8923.9 763.63\n",
            "+ horsepower     1    1470.4 10448.1 795.17\n",
            "+ acceleration   1     796.4 11122.1 807.68\n",
            "<none>                       11918.6 819.51\n",
            "\n",
            "Step:  AIC=367.34\n",
            "mpg ~ car\n",
            "\n",
            "               Df Sum of Sq    RSS    AIC\n",
            "+ model         1    63.766 145.79 296.77\n",
            "+ cylinders     1    27.203 182.36 341.53\n",
            "+ weight        1    23.938 185.62 345.08\n",
            "+ displacement  1    22.391 187.17 346.74\n",
            "+ horsepower    1    14.305 195.25 355.20\n",
            "<none>                      209.56 367.34\n",
            "+ acceleration  1     0.863 208.69 368.51\n",
            "\n",
            "Step:  AIC=296.77\n",
            "mpg ~ car + model\n",
            "\n",
            "               Df Sum of Sq    RSS    AIC\n",
            "+ weight        1   16.3768 129.42 274.94\n",
            "+ cylinders     1   10.3342 135.46 284.07\n",
            "+ displacement  1    8.3566 137.44 286.97\n",
            "+ horsepower    1    3.3372 142.46 294.14\n",
            "<none>                      145.79 296.77\n",
            "+ acceleration  1    0.2774 145.51 298.39\n",
            "\n",
            "Step:  AIC=274.94\n",
            "mpg ~ car + model + weight\n",
            "\n",
            "               Df Sum of Sq    RSS    AIC\n",
            "+ cylinders     1   2.68792 126.73 272.75\n",
            "<none>                      129.42 274.94\n",
            "+ horsepower    1   0.45093 128.97 276.24\n",
            "+ acceleration  1   0.19554 129.22 276.64\n",
            "+ displacement  1   0.01076 129.41 276.93\n",
            "\n",
            "Step:  AIC=272.74\n",
            "mpg ~ car + model + weight + cylinders\n",
            "\n",
            "               Df Sum of Sq    RSS    AIC\n",
            "+ displacement  1    5.5290 121.20 265.82\n",
            "+ acceleration  1    1.3724 125.36 272.57\n",
            "<none>                      126.73 272.75\n",
            "+ horsepower    1    0.0345 126.69 274.69\n",
            "\n",
            "Step:  AIC=265.82\n",
            "mpg ~ car + model + weight + cylinders + displacement\n",
            "\n",
            "               Df Sum of Sq    RSS    AIC\n",
            "+ acceleration  1    1.5387 119.66 265.27\n",
            "<none>                      121.20 265.82\n",
            "+ horsepower    1    1.1511 120.05 265.91\n",
            "\n",
            "Step:  AIC=265.27\n",
            "mpg ~ car + model + weight + cylinders + displacement + acceleration\n",
            "\n",
            "             Df Sum of Sq    RSS    AIC\n",
            "<none>                    119.66 265.27\n",
            "+ horsepower  1   0.64397 119.02 266.19\n"
          ]
        }
      ],
      "source": [
        "model_forward <- step(min_model, scope = list(lower = min_model, upper = full_model), direction = \"forward\")"
      ]
    },
    {
      "cell_type": "code",
      "execution_count": 54,
      "id": "57b9e8d5",
      "metadata": {
        "vscode": {
          "languageId": "r"
        }
      },
      "outputs": [
        {
          "data": {
            "text/plain": [
              "\n",
              "Call:\n",
              "lm(formula = mpg ~ car + model + weight + cylinders + displacement + \n",
              "    acceleration, data = df)\n",
              "\n",
              "Residuals:\n",
              "   Min     1Q Median     3Q    Max \n",
              " -4.38   0.00   0.00   0.00   4.38 \n",
              "\n",
              "Coefficients:\n",
              "                                          Estimate Std. Error t value Pr(>|t|)\n",
              "(Intercept)                             -22.097612  29.289041  -0.754 0.461530\n",
              "caramc concord d/l                       -3.464290   4.347699  -0.797 0.437226\n",
              "caramc concord dl                        -1.260319   3.765143  -0.335 0.742174\n",
              "caramc concord dl 6                      -0.975927   3.641461  -0.268 0.792120\n",
              "caramc pacer d/l                         -3.414410   4.718875  -0.724 0.479779\n",
              "caramc spirit dl                          4.359786   4.473778   0.975 0.344303\n",
              "caraudi 4000                              8.882786   5.018723   1.770 0.095789\n",
              "caraudi 5000                              1.032402   5.070656   0.204 0.841230\n",
              "caraudi 5000s (diesel)                   17.536519   5.903255   2.971 0.009014\n",
              "carbmw 320i                              -0.660810   4.768396  -0.139 0.891510\n",
              "carbuick century                          0.235325   3.768578   0.062 0.950983\n",
              "carbuick century limited                  2.239755   4.269577   0.525 0.607064\n",
              "carbuick century special                  0.740354   3.617489   0.205 0.840419\n",
              "carbuick estate wagon (sw)               -0.515062   6.138009  -0.084 0.934166\n",
              "carbuick opel isuzu deluxe                5.813314   4.855081   1.197 0.248603\n",
              "carbuick regal sport coupe (turbo)       -2.094466   3.883675  -0.539 0.597105\n",
              "carbuick skylark                          0.905809   2.832071   0.320 0.753228\n",
              "carbuick skylark limited                  3.517434   3.840063   0.916 0.373275\n",
              "carcadillac eldorado                      2.869652   6.506705   0.441 0.665093\n",
              "carcadillac seville                       1.325416   6.220571   0.213 0.833964\n",
              "carchevrolet camaro                       1.668092   3.787545   0.440 0.665529\n",
              "carchevrolet caprice classic              0.156868   4.525893   0.035 0.972780\n",
              "carchevrolet cavalier                     3.295120   4.558064   0.723 0.480164\n",
              "carchevrolet cavalier 2-door              7.628947   4.466906   1.708 0.106984\n",
              "carchevrolet cavalier wagon               2.375704   4.600765   0.516 0.612658\n",
              "carchevrolet chevette                     6.342258   4.512170   1.406 0.178967\n",
              "carchevrolet citation                     2.801308   3.459957   0.810 0.430026\n",
              "carchevrolet concours                    -1.739787   3.906493  -0.445 0.662028\n",
              "carchevrolet malibu                       1.559975   3.739132   0.417 0.682075\n",
              "carchevrolet malibu classic (sw)          2.233070   4.795464   0.466 0.647732\n",
              "carchevrolet monte carlo landau          -1.513487   5.341160  -0.283 0.780532\n",
              "carchevy c10                             -4.383416   6.328321  -0.693 0.498450\n",
              "carchevy s-10                             6.573885   4.399240   1.494 0.154551\n",
              "carchrysler cordoba                      -4.207211   8.602218  -0.489 0.631419\n",
              "carchrysler lebaron medallion            -2.563833   4.272075  -0.600 0.556820\n",
              "carchrysler lebaron salon                -3.703164   3.760302  -0.985 0.339379\n",
              "carchrysler lebaron town @ country (sw)  -2.711098   7.035612  -0.385 0.705061\n",
              "cardatsun 200-sx                          0.036139   4.459372   0.008 0.993634\n",
              "cardatsun 200sx                           7.896541   4.512376   1.750 0.099273\n",
              "cardatsun 210                            11.804530   5.088301   2.320 0.033889\n",
              "cardatsun 210 mpg                        10.657672   5.492947   1.940 0.070183\n",
              "cardatsun 280-zx                         11.485424   4.945020   2.323 0.033710\n",
              "cardatsun 310                            11.468242   5.420316   2.116 0.050396\n",
              "cardatsun 310 gx                         10.048009   5.328889   1.886 0.077644\n",
              "cardatsun 510                             2.596422   4.540165   0.572 0.575352\n",
              "cardatsun 510 hatchback                  11.653257   4.405971   2.645 0.017653\n",
              "cardatsun 810                             4.633120   5.618577   0.825 0.421718\n",
              "cardatsun 810 maxima                      4.111968   5.889716   0.698 0.495099\n",
              "cardatsun b-210                           9.620805   5.629503   1.709 0.106773\n",
              "cardatsun b210 gx                        16.115518   5.478087   2.942 0.009572\n",
              "cardatsun f-10 hatchback                  9.938923   5.590354   1.778 0.094434\n",
              "cardodge aries se                         1.663253   4.074442   0.408 0.688526\n",
              "cardodge aries wagon (sw)                -1.696121   4.173689  -0.406 0.689844\n",
              "cardodge aspen                           -0.192651   3.130022  -0.062 0.951684\n",
              "cardodge aspen 6                          0.282392   3.564607   0.079 0.937839\n",
              "cardodge aspen se                         4.358615   4.018422   1.085 0.294147\n",
              "cardodge charger 2.2                      7.150389   4.615741   1.549 0.140902\n",
              "cardodge colt                             2.465689   3.981625   0.619 0.544458\n",
              "cardodge colt hatchback custom            9.003056   5.345197   1.684 0.111522\n",
              "cardodge colt m/m                         9.810393   5.142602   1.908 0.074547\n",
              "cardodge d100                            -3.965581   5.248934  -0.756 0.460926\n",
              "cardodge diplomat                         0.480806   5.361214   0.090 0.929653\n",
              "cardodge magnum xe                        0.986854   5.226926   0.189 0.852622\n",
              "cardodge monaco brougham                  0.238841   5.237281   0.046 0.964190\n",
              "cardodge omni                             6.725286   4.900205   1.372 0.188858\n",
              "cardodge rampage                          2.426390   4.957473   0.489 0.631172\n",
              "cardodge st. regis                       -0.613932   5.257160  -0.117 0.908488\n",
              "carfiat strada custom                    12.566865   5.311948   2.366 0.030954\n",
              "carford country squire (sw)              -4.140078   6.353748  -0.652 0.523912\n",
              "carford escort 2h                         5.627337   4.996460   1.126 0.276663\n",
              "carford escort 4w                         7.166318   5.076725   1.412 0.177218\n",
              "carford f108                             -1.968304   4.812622  -0.409 0.687971\n",
              "carford fairmont                          3.079440   3.835613   0.803 0.433824\n",
              "carford fairmont (auto)                  -0.395718   3.701504  -0.107 0.916191\n",
              "carford fairmont (man)                    2.041155   3.991557   0.511 0.616078\n",
              "carford fairmont 4                       -0.163005   3.920704  -0.042 0.967352\n",
              "carford fairmont futura                  -1.312998   4.010823  -0.327 0.747637\n",
              "carford fiesta                            9.474052   5.577105   1.699 0.108726\n",
              "carford futura                           -3.641558   5.882670  -0.619 0.544610\n",
              "carford granada                          -0.301448   3.885098  -0.078 0.939116\n",
              "carford granada ghia                      0.687533   4.036855   0.170 0.866898\n",
              "carford granada gl                       -2.093537   3.775731  -0.554 0.586923\n",
              "carford granada l                        -5.163669   4.830202  -1.069 0.300916\n",
              "carford ltd landau                       -1.137050   4.969072  -0.229 0.821904\n",
              "carford mustang cobra                    -0.075695   4.262425  -0.018 0.986051\n",
              "carford mustang gl                        1.056372   4.031705   0.262 0.796652\n",
              "carford mustang ii 2+2                    3.586675   4.022108   0.892 0.385747\n",
              "carford pinto                             3.809180   4.370626   0.872 0.396348\n",
              "carford ranger                            2.741685   4.267517   0.642 0.529677\n",
              "carford thunderbird                      -0.018469   6.101779  -0.003 0.997622\n",
              "carhonda accord                           7.663478   4.304253   1.780 0.093998\n",
              "carhonda accord cvcc                      8.012534   5.144981   1.557 0.138945\n",
              "carhonda accord lx                        5.477158   5.022057   1.091 0.291593\n",
              "carhonda civic                            9.313156   5.081841   1.833 0.085533\n",
              "carhonda civic (auto)                     3.767746   5.380015   0.700 0.493784\n",
              "carhonda civic 1300                       7.059609   5.829920   1.211 0.243507\n",
              "carhonda civic 1500 gl                   16.990150   5.600590   3.034 0.007905\n",
              "carhonda civic cvcc                      10.251472   5.589223   1.834 0.085298\n",
              "carhonda prelude                          6.700330   4.850434   1.381 0.186148\n",
              "carmaxda glc deluxe                       8.731646   5.506963   1.586 0.132402\n",
              "carmazda 626                              7.107048   3.752789   1.894 0.076477\n",
              "carmazda glc                             21.715779   5.368682   4.045 0.000939\n",
              "carmazda glc 4                            6.896476   5.317641   1.297 0.213055\n",
              "carmazda glc custom                       3.097155   5.322950   0.582 0.568776\n",
              "carmazda glc custom l                     9.561692   5.268197   1.815 0.088317\n",
              "carmazda glc deluxe                       9.532577   5.793424   1.645 0.119384\n",
              "carmazda rx-4                             0.616784   6.159304   0.100 0.921478\n",
              "carmazda rx-7 gs                         -1.238625   6.032038  -0.205 0.839895\n",
              "carmercedes-benz 240d                     9.420058   4.386174   2.148 0.047404\n",
              "carmercedes-benz 280s                     5.639638   7.386164   0.764 0.456253\n",
              "carmercedes benz 300d                     7.199731   4.297497   1.675 0.113299\n",
              "carmercury cougar brougham                2.037181   5.429140   0.375 0.712416\n",
              "carmercury grand marquis                 -3.979357   6.536742  -0.609 0.551224\n",
              "carmercury lynx l                         8.630300   4.999419   1.726 0.103555\n",
              "carmercury monarch ghia                   1.170636   5.068491   0.231 0.820271\n",
              "carmercury zephyr                         1.052929   3.673862   0.287 0.778096\n",
              "carmercury zephyr 6                      -1.100607   3.713845  -0.296 0.770773\n",
              "carnissan stanza xe                       6.965604   4.772842   1.459 0.163803\n",
              "caroldsmobile cutlass ciera (diesel)     10.411011   5.666793   1.837 0.084826\n",
              "caroldsmobile cutlass ls                  3.843491   7.073133   0.543 0.594350\n",
              "caroldsmobile cutlass salon brougham      4.987853   4.574679   1.090 0.291722\n",
              "caroldsmobile cutlass supreme             5.886449   6.021019   0.978 0.342799\n",
              "caroldsmobile omega brougham              4.915736   4.455806   1.103 0.286249\n",
              "caroldsmobile starfire sx                 1.261969   3.686728   0.342 0.736580\n",
              "carpeugeot 504                            5.776261   4.893345   1.180 0.255080\n",
              "carpeugeot 505s turbo diesel              6.653147   4.515013   1.474 0.160001\n",
              "carpeugeot 604sl                          1.071533   6.107536   0.175 0.862932\n",
              "carplymouth arrow gs                      1.668192   4.484103   0.372 0.714757\n",
              "carplymouth champ                        11.449379   5.551207   2.063 0.055785\n",
              "carplymouth horizon                       8.773457   5.017821   1.748 0.099541\n",
              "carplymouth horizon 4                     7.945077   4.850209   1.638 0.120916\n",
              "carplymouth horizon miser                 9.759511   4.973972   1.962 0.067384\n",
              "carplymouth horizon tc3                   9.000574   4.889346   1.841 0.084263\n",
              "carplymouth reliant                       1.255289   3.836388   0.327 0.747754\n",
              "carplymouth sapporo                      -0.553416   3.762367  -0.147 0.884897\n",
              "carplymouth volare                        1.595233   3.584710   0.445 0.662274\n",
              "carplymouth volare custom                 2.369821   3.921640   0.604 0.554122\n",
              "carplymouth volare premier v8            -2.841595   5.174590  -0.549 0.590489\n",
              "carpontiac grand prix lj                 -4.586982   8.856034  -0.518 0.611581\n",
              "carpontiac j2000 se hatchback             5.563576   4.633887   1.201 0.247370\n",
              "carpontiac lemans v6                     -0.180018   3.706138  -0.049 0.961861\n",
              "carpontiac phoenix                        3.869236   3.407601   1.135 0.272901\n",
              "carpontiac phoenix lj                     0.915463   3.685110   0.248 0.806968\n",
              "carpontiac sunbird coupe                  1.783982   3.878949   0.460 0.651766\n",
              "carpontiac ventura sj                     0.919731   3.972718   0.232 0.819852\n",
              "carrenault 18i                            8.926719   4.925329   1.812 0.088730\n",
              "carrenault 5 gtl                         12.308798   5.897404   2.087 0.053229\n",
              "carrenault lecar deluxe                  14.133165   5.607315   2.520 0.022717\n",
              "carsaab 99gle                             0.359357   4.627095   0.078 0.939059\n",
              "carsubaru                                 5.516870   5.043092   1.094 0.290175\n",
              "carsubaru dl                              7.141191   4.686721   1.524 0.147102\n",
              "cartoyota celica gt                       4.681867   4.200723   1.115 0.281511\n",
              "cartoyota celica gt liftback             -3.036068   4.174110  -0.727 0.477516\n",
              "cartoyota corolla                         6.420527   4.081770   1.573 0.135288\n",
              "cartoyota corolla liftback                4.017124   5.062830   0.793 0.439122\n",
              "cartoyota corolla tercel                 12.197744   5.360477   2.275 0.036982\n",
              "cartoyota corona                          3.574248   4.226563   0.846 0.410210\n",
              "cartoyota corona liftback                 5.401422   4.057864   1.331 0.201813\n",
              "cartoyota cressida                        3.457600   4.847470   0.713 0.485947\n",
              "cartoyota mark ii                         2.745901   5.305156   0.518 0.611826\n",
              "cartoyota starlet                        11.283555   5.870920   1.922 0.072606\n",
              "cartoyota tercel                         11.270626   5.290742   2.130 0.049018\n",
              "cartriumph tr7 coupe                      9.914424   4.320639   2.295 0.035617\n",
              "carvokswagen rabbit                       2.523027   5.553260   0.454 0.655692\n",
              "carvolkswagen dasher                      7.372967   5.230538   1.410 0.177799\n",
              "carvolkswagen jetta                       5.967434   4.928329   1.211 0.243538\n",
              "carvolkswagen rabbit                      4.461164   5.813051   0.767 0.453997\n",
              "carvolkswagen rabbit custom               4.248081   5.387405   0.789 0.441919\n",
              "carvolkswagen rabbit custom diesel       19.360180   5.520440   3.507 0.002920\n",
              "carvolkswagen rabbit l                    6.874344   5.133669   1.339 0.199262\n",
              "carvolkswagen scirocco                    6.833468   5.453130   1.253 0.228164\n",
              "carvolvo 245                              2.249845   5.217189   0.431 0.672050\n",
              "carvolvo 264gl                           -0.292919   5.404708  -0.054 0.957449\n",
              "carvolvo diesel                          13.133289   6.509219   2.018 0.060723\n",
              "carvw dasher (diesel)                    20.670363   5.581872   3.703 0.001930\n",
              "carvw pickup                             17.866624   5.472160   3.265 0.004865\n",
              "carvw rabbit                             15.548077   5.077406   3.062 0.007446\n",
              "carvw rabbit c (diesel)                  19.572004   5.390436   3.631 0.002248\n",
              "carvw rabbit custom                       5.807686   5.541365   1.048 0.310185\n",
              "model                                     0.847076   0.325704   2.601 0.019311\n",
              "weight                                   -0.006749   0.005169  -1.306 0.210154\n",
              "cylinders                                -2.371713   2.097794  -1.131 0.274897\n",
              "displacement                              0.066599   0.076317   0.873 0.395757\n",
              "acceleration                             -0.155614   0.343068  -0.454 0.656211\n",
              "                                           \n",
              "(Intercept)                                \n",
              "caramc concord d/l                         \n",
              "caramc concord dl                          \n",
              "caramc concord dl 6                        \n",
              "caramc pacer d/l                           \n",
              "caramc spirit dl                           \n",
              "caraudi 4000                            .  \n",
              "caraudi 5000                               \n",
              "caraudi 5000s (diesel)                  ** \n",
              "carbmw 320i                                \n",
              "carbuick century                           \n",
              "carbuick century limited                   \n",
              "carbuick century special                   \n",
              "carbuick estate wagon (sw)                 \n",
              "carbuick opel isuzu deluxe                 \n",
              "carbuick regal sport coupe (turbo)         \n",
              "carbuick skylark                           \n",
              "carbuick skylark limited                   \n",
              "carcadillac eldorado                       \n",
              "carcadillac seville                        \n",
              "carchevrolet camaro                        \n",
              "carchevrolet caprice classic               \n",
              "carchevrolet cavalier                      \n",
              "carchevrolet cavalier 2-door               \n",
              "carchevrolet cavalier wagon                \n",
              "carchevrolet chevette                      \n",
              "carchevrolet citation                      \n",
              "carchevrolet concours                      \n",
              "carchevrolet malibu                        \n",
              "carchevrolet malibu classic (sw)           \n",
              "carchevrolet monte carlo landau            \n",
              "carchevy c10                               \n",
              "carchevy s-10                              \n",
              "carchrysler cordoba                        \n",
              "carchrysler lebaron medallion              \n",
              "carchrysler lebaron salon                  \n",
              "carchrysler lebaron town @ country (sw)    \n",
              "cardatsun 200-sx                           \n",
              "cardatsun 200sx                         .  \n",
              "cardatsun 210                           *  \n",
              "cardatsun 210 mpg                       .  \n",
              "cardatsun 280-zx                        *  \n",
              "cardatsun 310                           .  \n",
              "cardatsun 310 gx                        .  \n",
              "cardatsun 510                              \n",
              "cardatsun 510 hatchback                 *  \n",
              "cardatsun 810                              \n",
              "cardatsun 810 maxima                       \n",
              "cardatsun b-210                            \n",
              "cardatsun b210 gx                       ** \n",
              "cardatsun f-10 hatchback                .  \n",
              "cardodge aries se                          \n",
              "cardodge aries wagon (sw)                  \n",
              "cardodge aspen                             \n",
              "cardodge aspen 6                           \n",
              "cardodge aspen se                          \n",
              "cardodge charger 2.2                       \n",
              "cardodge colt                              \n",
              "cardodge colt hatchback custom             \n",
              "cardodge colt m/m                       .  \n",
              "cardodge d100                              \n",
              "cardodge diplomat                          \n",
              "cardodge magnum xe                         \n",
              "cardodge monaco brougham                   \n",
              "cardodge omni                              \n",
              "cardodge rampage                           \n",
              "cardodge st. regis                         \n",
              "carfiat strada custom                   *  \n",
              "carford country squire (sw)                \n",
              "carford escort 2h                          \n",
              "carford escort 4w                          \n",
              "carford f108                               \n",
              "carford fairmont                           \n",
              "carford fairmont (auto)                    \n",
              "carford fairmont (man)                     \n",
              "carford fairmont 4                         \n",
              "carford fairmont futura                    \n",
              "carford fiesta                             \n",
              "carford futura                             \n",
              "carford granada                            \n",
              "carford granada ghia                       \n",
              "carford granada gl                         \n",
              "carford granada l                          \n",
              "carford ltd landau                         \n",
              "carford mustang cobra                      \n",
              "carford mustang gl                         \n",
              "carford mustang ii 2+2                     \n",
              "carford pinto                              \n",
              "carford ranger                             \n",
              "carford thunderbird                        \n",
              "carhonda accord                         .  \n",
              "carhonda accord cvcc                       \n",
              "carhonda accord lx                         \n",
              "carhonda civic                          .  \n",
              "carhonda civic (auto)                      \n",
              "carhonda civic 1300                        \n",
              "carhonda civic 1500 gl                  ** \n",
              "carhonda civic cvcc                     .  \n",
              "carhonda prelude                           \n",
              "carmaxda glc deluxe                        \n",
              "carmazda 626                            .  \n",
              "carmazda glc                            ***\n",
              "carmazda glc 4                             \n",
              "carmazda glc custom                        \n",
              "carmazda glc custom l                   .  \n",
              "carmazda glc deluxe                        \n",
              "carmazda rx-4                              \n",
              "carmazda rx-7 gs                           \n",
              "carmercedes-benz 240d                   *  \n",
              "carmercedes-benz 280s                      \n",
              "carmercedes benz 300d                      \n",
              "carmercury cougar brougham                 \n",
              "carmercury grand marquis                   \n",
              "carmercury lynx l                          \n",
              "carmercury monarch ghia                    \n",
              "carmercury zephyr                          \n",
              "carmercury zephyr 6                        \n",
              "carnissan stanza xe                        \n",
              "caroldsmobile cutlass ciera (diesel)    .  \n",
              "caroldsmobile cutlass ls                   \n",
              "caroldsmobile cutlass salon brougham       \n",
              "caroldsmobile cutlass supreme              \n",
              "caroldsmobile omega brougham               \n",
              "caroldsmobile starfire sx                  \n",
              "carpeugeot 504                             \n",
              "carpeugeot 505s turbo diesel               \n",
              "carpeugeot 604sl                           \n",
              "carplymouth arrow gs                       \n",
              "carplymouth champ                       .  \n",
              "carplymouth horizon                     .  \n",
              "carplymouth horizon 4                      \n",
              "carplymouth horizon miser               .  \n",
              "carplymouth horizon tc3                 .  \n",
              "carplymouth reliant                        \n",
              "carplymouth sapporo                        \n",
              "carplymouth volare                         \n",
              "carplymouth volare custom                  \n",
              "carplymouth volare premier v8              \n",
              "carpontiac grand prix lj                   \n",
              "carpontiac j2000 se hatchback              \n",
              "carpontiac lemans v6                       \n",
              "carpontiac phoenix                         \n",
              "carpontiac phoenix lj                      \n",
              "carpontiac sunbird coupe                   \n",
              "carpontiac ventura sj                      \n",
              "carrenault 18i                          .  \n",
              "carrenault 5 gtl                        .  \n",
              "carrenault lecar deluxe                 *  \n",
              "carsaab 99gle                              \n",
              "carsubaru                                  \n",
              "carsubaru dl                               \n",
              "cartoyota celica gt                        \n",
              "cartoyota celica gt liftback               \n",
              "cartoyota corolla                          \n",
              "cartoyota corolla liftback                 \n",
              "cartoyota corolla tercel                *  \n",
              "cartoyota corona                           \n",
              "cartoyota corona liftback                  \n",
              "cartoyota cressida                         \n",
              "cartoyota mark ii                          \n",
              "cartoyota starlet                       .  \n",
              "cartoyota tercel                        *  \n",
              "cartriumph tr7 coupe                    *  \n",
              "carvokswagen rabbit                        \n",
              "carvolkswagen dasher                       \n",
              "carvolkswagen jetta                        \n",
              "carvolkswagen rabbit                       \n",
              "carvolkswagen rabbit custom                \n",
              "carvolkswagen rabbit custom diesel      ** \n",
              "carvolkswagen rabbit l                     \n",
              "carvolkswagen scirocco                     \n",
              "carvolvo 245                               \n",
              "carvolvo 264gl                             \n",
              "carvolvo diesel                         .  \n",
              "carvw dasher (diesel)                   ** \n",
              "carvw pickup                            ** \n",
              "carvw rabbit                            ** \n",
              "carvw rabbit c (diesel)                 ** \n",
              "carvw rabbit custom                        \n",
              "model                                   *  \n",
              "weight                                     \n",
              "cylinders                                  \n",
              "displacement                               \n",
              "acceleration                               \n",
              "---\n",
              "Signif. codes:  0 '***' 0.001 '**' 0.01 '*' 0.05 '.' 0.1 ' ' 1\n",
              "\n",
              "Residual standard error: 2.735 on 16 degrees of freedom\n",
              "Multiple R-squared:   0.99,\tAdjusted R-squared:  0.8751 \n",
              "F-statistic: 8.621 on 183 and 16 DF,  p-value: 7.561e-06\n"
            ]
          },
          "metadata": {},
          "output_type": "display_data"
        }
      ],
      "source": [
        "summary(model_forward)"
      ]
    },
    {
      "cell_type": "code",
      "execution_count": 58,
      "id": "e659b51f",
      "metadata": {
        "vscode": {
          "languageId": "r"
        }
      },
      "outputs": [
        {
          "data": {
            "text/html": [
              "<table class=\"dataframe\">\n",
              "<caption>A data.frame: 6 × 2</caption>\n",
              "<thead>\n",
              "\t<tr><th></th><th scope=col>pred</th><th scope=col>real</th></tr>\n",
              "\t<tr><th></th><th scope=col>&lt;dbl&gt;</th><th scope=col>&lt;dbl&gt;</th></tr>\n",
              "</thead>\n",
              "<tbody>\n",
              "\t<tr><th scope=row>1</th><td>33.34566</td><td>33.0</td></tr>\n",
              "\t<tr><th scope=row>2</th><td>20.00000</td><td>20.0</td></tr>\n",
              "\t<tr><th scope=row>3</th><td>18.00000</td><td>18.0</td></tr>\n",
              "\t<tr><th scope=row>4</th><td>18.50000</td><td>18.5</td></tr>\n",
              "\t<tr><th scope=row>5</th><td>17.50000</td><td>17.5</td></tr>\n",
              "\t<tr><th scope=row>6</th><td>29.50000</td><td>29.5</td></tr>\n",
              "</tbody>\n",
              "</table>\n"
            ],
            "text/latex": [
              "A data.frame: 6 × 2\n",
              "\\begin{tabular}{r|ll}\n",
              "  & pred & real\\\\\n",
              "  & <dbl> & <dbl>\\\\\n",
              "\\hline\n",
              "\t1 & 33.34566 & 33.0\\\\\n",
              "\t2 & 20.00000 & 20.0\\\\\n",
              "\t3 & 18.00000 & 18.0\\\\\n",
              "\t4 & 18.50000 & 18.5\\\\\n",
              "\t5 & 17.50000 & 17.5\\\\\n",
              "\t6 & 29.50000 & 29.5\\\\\n",
              "\\end{tabular}\n"
            ],
            "text/markdown": [
              "\n",
              "A data.frame: 6 × 2\n",
              "\n",
              "| <!--/--> | pred &lt;dbl&gt; | real &lt;dbl&gt; |\n",
              "|---|---|---|\n",
              "| 1 | 33.34566 | 33.0 |\n",
              "| 2 | 20.00000 | 20.0 |\n",
              "| 3 | 18.00000 | 18.0 |\n",
              "| 4 | 18.50000 | 18.5 |\n",
              "| 5 | 17.50000 | 17.5 |\n",
              "| 6 | 29.50000 | 29.5 |\n",
              "\n"
            ],
            "text/plain": [
              "  pred     real\n",
              "1 33.34566 33.0\n",
              "2 20.00000 20.0\n",
              "3 18.00000 18.0\n",
              "4 18.50000 18.5\n",
              "5 17.50000 17.5\n",
              "6 29.50000 29.5"
            ]
          },
          "metadata": {},
          "output_type": "display_data"
        }
      ],
      "source": [
        "pred_forward <- predict(model_forward, df)\n",
        "\n",
        "res_forward <- cbind(pred_forward, df$mpg)\n",
        "colnames(res_forward) <- c('pred','real')\n",
        "res_forward <- as.data.frame(res_forward)\n",
        "\n",
        "head(res_forward)"
      ]
    },
    {
      "cell_type": "code",
      "execution_count": 59,
      "id": "cd8f25da",
      "metadata": {
        "vscode": {
          "languageId": "r"
        }
      },
      "outputs": [
        {
          "data": {
            "text/html": [
              "0.875130118079172"
            ],
            "text/latex": [
              "0.875130118079172"
            ],
            "text/markdown": [
              "0.875130118079172"
            ],
            "text/plain": [
              "[1] 0.8751301"
            ]
          },
          "metadata": {},
          "output_type": "display_data"
        }
      ],
      "source": [
        "summary(model_forward)$adj.r.squared"
      ]
    },
    {
      "cell_type": "code",
      "execution_count": 60,
      "id": "fab9f598",
      "metadata": {
        "vscode": {
          "languageId": "r"
        }
      },
      "outputs": [
        {
          "data": {
            "text/html": [
              "0.250368615253972"
            ],
            "text/latex": [
              "0.250368615253972"
            ],
            "text/markdown": [
              "0.250368615253972"
            ],
            "text/plain": [
              "[1] 0.2503686"
            ]
          },
          "metadata": {},
          "output_type": "display_data"
        },
        {
          "data": {
            "text/html": [
              "0.598299546787499"
            ],
            "text/latex": [
              "0.598299546787499"
            ],
            "text/markdown": [
              "0.598299546787499"
            ],
            "text/plain": [
              "[1] 0.5982995"
            ]
          },
          "metadata": {},
          "output_type": "display_data"
        },
        {
          "data": {
            "text/html": [
              "0.773498252607916"
            ],
            "text/latex": [
              "0.773498252607916"
            ],
            "text/markdown": [
              "0.773498252607916"
            ],
            "text/plain": [
              "[1] 0.7734983"
            ]
          },
          "metadata": {},
          "output_type": "display_data"
        }
      ],
      "source": [
        "mae(res_forward$real, res_forward$pred)\n",
        "mse(res_forward$real, res_forward$pred)\n",
        "rmse(res_forward$real, res_forward$pred)"
      ]
    }
  ],
  "metadata": {
    "colab": {
      "provenance": []
    },
    "kernelspec": {
      "display_name": "R",
      "language": "R",
      "name": "ir"
    },
    "language_info": {
      "codemirror_mode": "r",
      "file_extension": ".r",
      "mimetype": "text/x-r-source",
      "name": "R",
      "pygments_lexer": "r",
      "version": "4.3.3"
    }
  },
  "nbformat": 4,
  "nbformat_minor": 5
}
