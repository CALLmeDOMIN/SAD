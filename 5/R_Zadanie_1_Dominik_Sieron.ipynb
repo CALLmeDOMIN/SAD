{
  "cells": [
    {
      "cell_type": "markdown",
      "metadata": {
        "id": "uiTeLffHNoSA"
      },
      "source": [
        "# Zadanie 1"
      ]
    },
    {
      "cell_type": "markdown",
      "metadata": {
        "id": "ZukjDlYsI2jp"
      },
      "source": [
        "## Utwórz kopię pliku na swoim dysku google. Zmień nazwę na R_Zadanie_1_imię_nazwisko.jpynb"
      ]
    },
    {
      "cell_type": "markdown",
      "metadata": {
        "id": "pfrBly4cax1u"
      },
      "source": [
        "Analiza dotyczy zbioru danych, który zawiera informacje na temat batonów czekoladowych.\\\n",
        "Zmiennne:\n",
        "* nazwa firmy produkującej batony czekoladowe\n",
        "* pochodzenie ziaren kakaowych lub nazwa batonu\n",
        "* numer referencyjny\n",
        "* rok przeglądu\n",
        "* procentowa zawartość kako w czekoladzie\n",
        "* lokalizacja firmy produkującej czekoladę\n",
        "* ocena batonu czekoladowego\n",
        "* pochodzenie ziaren kakaowca\n",
        "\n",
        "System oceny smaków kakao:\\\n",
        "5= Elita (Przekraczanie poza zwykłe granice)\\\n",
        "4= Premium (Doskonały rozwój smaku, charakteru i stylu)\\\n",
        "3 = zadowalający (3,0) do godnego pochwały (3,75) (dobrze wykonany, o specjalnych właściwościach)\\\n",
        "2= Rozczarowujący (Zadowalający, ale zawiera co najmniej jedną istotną wadę)\\\n",
        "1= Nieprzyjemny (przeważnie niesmaczny)\\\n",
        "REF – wartość powiązana z datą wprowadzenia recenzji do bazy danych. Wyższy = nowszy."
      ]
    },
    {
      "cell_type": "markdown",
      "metadata": {
        "id": "QMIMVuuJlhLZ"
      },
      "source": [
        "##Wczytaj zbiór danych znajdujący sie pod adresem:\n",
        "https://raw.githubusercontent.com/clauswilke/dviz.supp/master/data-raw/cacao/flavors_of_cacao.csv"
      ]
    },
    {
      "cell_type": "code",
      "execution_count": null,
      "metadata": {
        "colab": {
          "base_uri": "https://localhost:8080/",
          "height": 1000
        },
        "id": "fFKXjBSzlte2",
        "outputId": "0d5c025d-5f2a-4f59-8475-54169fe1af93",
        "vscode": {
          "languageId": "r"
        }
      },
      "outputs": [],
      "source": [
        "read.csv(\"https://raw.githubusercontent.com/clauswilke/dviz.supp/master/data-raw/cacao/flavors_of_cacao.csv\")"
      ]
    },
    {
      "cell_type": "markdown",
      "metadata": {
        "id": "kaUnrW215Dy8"
      },
      "source": [
        "## Zaimportuj pakiet Tidiverse"
      ]
    },
    {
      "cell_type": "code",
      "execution_count": 2,
      "metadata": {
        "id": "ltOeuaWE5G69",
        "vscode": {
          "languageId": "r"
        }
      },
      "outputs": [],
      "source": [
        "library(tidyverse)"
      ]
    },
    {
      "cell_type": "markdown",
      "metadata": {
        "id": "mnyTdf7Jq-jF"
      },
      "source": [
        "## Przygotowanie danych"
      ]
    },
    {
      "cell_type": "markdown",
      "metadata": {
        "id": "7IgJWBLn15eX"
      },
      "source": [
        "Wczytaj dane zmieniając nazwy kolumn na:\\\n",
        "'Company', 'Specific_Bean_Origin_or_Bar_Name', 'REF','Review_Date', 'Cocoa_Percentage', 'Company_Location','Rating', 'Bean_Type', 'Broad_Bean_Origin'"
      ]
    },
    {
      "cell_type": "code",
      "execution_count": 3,
      "metadata": {
        "colab": {
          "base_uri": "https://localhost:8080/",
          "height": 129
        },
        "id": "wY8zYpgRmRtA",
        "outputId": "3cdb7312-8400-43b4-f70d-1639c6406734",
        "vscode": {
          "languageId": "r"
        }
      },
      "outputs": [
        {
          "data": {
            "text/html": [
              "<table class=\"dataframe\">\n",
              "<caption>A tibble: 1 × 9</caption>\n",
              "<thead>\n",
              "\t<tr><th scope=col>Company</th><th scope=col>Specific_Bean_Origin_or_Bar_Name</th><th scope=col>REF</th><th scope=col>Review_Date</th><th scope=col>Cocoa_Percentage</th><th scope=col>Company_Location</th><th scope=col>Rating</th><th scope=col>Bean_Type</th><th scope=col>Broad_Bean_Origin</th></tr>\n",
              "\t<tr><th scope=col>&lt;chr&gt;</th><th scope=col>&lt;chr&gt;</th><th scope=col>&lt;dbl&gt;</th><th scope=col>&lt;dbl&gt;</th><th scope=col>&lt;chr&gt;</th><th scope=col>&lt;chr&gt;</th><th scope=col>&lt;dbl&gt;</th><th scope=col>&lt;chr&gt;</th><th scope=col>&lt;chr&gt;</th></tr>\n",
              "</thead>\n",
              "<tbody>\n",
              "\t<tr><td>A. Morin</td><td>Agua Grande</td><td>1876</td><td>2016</td><td>63%</td><td>France</td><td>3.75</td><td> </td><td>Sao Tome</td></tr>\n",
              "</tbody>\n",
              "</table>\n"
            ],
            "text/latex": [
              "A tibble: 1 × 9\n",
              "\\begin{tabular}{lllllllll}\n",
              " Company & Specific\\_Bean\\_Origin\\_or\\_Bar\\_Name & REF & Review\\_Date & Cocoa\\_Percentage & Company\\_Location & Rating & Bean\\_Type & Broad\\_Bean\\_Origin\\\\\n",
              " <chr> & <chr> & <dbl> & <dbl> & <chr> & <chr> & <dbl> & <chr> & <chr>\\\\\n",
              "\\hline\n",
              "\t A. Morin & Agua Grande & 1876 & 2016 & 63\\% & France & 3.75 &   & Sao Tome\\\\\n",
              "\\end{tabular}\n"
            ],
            "text/markdown": [
              "\n",
              "A tibble: 1 × 9\n",
              "\n",
              "| Company &lt;chr&gt; | Specific_Bean_Origin_or_Bar_Name &lt;chr&gt; | REF &lt;dbl&gt; | Review_Date &lt;dbl&gt; | Cocoa_Percentage &lt;chr&gt; | Company_Location &lt;chr&gt; | Rating &lt;dbl&gt; | Bean_Type &lt;chr&gt; | Broad_Bean_Origin &lt;chr&gt; |\n",
              "|---|---|---|---|---|---|---|---|---|\n",
              "| A. Morin | Agua Grande | 1876 | 2016 | 63% | France | 3.75 |   | Sao Tome |\n",
              "\n"
            ],
            "text/plain": [
              "  Company  Specific_Bean_Origin_or_Bar_Name REF  Review_Date Cocoa_Percentage\n",
              "1 A. Morin Agua Grande                      1876 2016        63%             \n",
              "  Company_Location Rating Bean_Type Broad_Bean_Origin\n",
              "1 France           3.75             Sao Tome         "
            ]
          },
          "metadata": {},
          "output_type": "display_data"
        }
      ],
      "source": [
        "url = \"https://raw.githubusercontent.com/clauswilke/dviz.supp/master/data-raw/cacao/flavors_of_cacao.csv\"\n",
        "df <- read_csv(url,\n",
        "               col_names = c(\"Company\",\"Specific_Bean_Origin_or_Bar_Name\",\"REF\",\"Review_Date\",\"Cocoa_Percentage\",\"Company_Location\",\"Rating\",\"Bean_Type\",\"Broad_Bean_Origin\"),\n",
        "               skip=1,\n",
        "               show_col_types = FALSE)\n",
        "\n",
        "head(df, 1)"
      ]
    },
    {
      "cell_type": "markdown",
      "metadata": {
        "id": "RN_ApCUO2Mqb"
      },
      "source": [
        "Wyświtl \"kształt\" zbioru - liczba wierszy i kolumn"
      ]
    },
    {
      "cell_type": "code",
      "execution_count": 4,
      "metadata": {
        "colab": {
          "base_uri": "https://localhost:8080/",
          "height": 52
        },
        "id": "A25_wHDY2S0_",
        "outputId": "89888171-1b59-4f37-9aa3-8c8c4a964e65",
        "vscode": {
          "languageId": "r"
        }
      },
      "outputs": [
        {
          "data": {
            "text/html": [
              "1795"
            ],
            "text/latex": [
              "1795"
            ],
            "text/markdown": [
              "1795"
            ],
            "text/plain": [
              "[1] 1795"
            ]
          },
          "metadata": {},
          "output_type": "display_data"
        },
        {
          "data": {
            "text/html": [
              "9"
            ],
            "text/latex": [
              "9"
            ],
            "text/markdown": [
              "9"
            ],
            "text/plain": [
              "[1] 9"
            ]
          },
          "metadata": {},
          "output_type": "display_data"
        }
      ],
      "source": [
        "nrow(df) # wiersze\n",
        "ncol(df) # kolumny"
      ]
    },
    {
      "cell_type": "markdown",
      "metadata": {
        "id": "TiFgtOg51-MS"
      },
      "source": [
        "Wyświetl strukturę zbioru danych (nazwy zmiennych\n",
        ", typ danych, ...)"
      ]
    },
    {
      "cell_type": "code",
      "execution_count": 5,
      "metadata": {
        "colab": {
          "base_uri": "https://localhost:8080/"
        },
        "id": "57ecawuCmRah",
        "outputId": "d80a886e-40e3-42e0-b4c2-23d9e72aed0f",
        "vscode": {
          "languageId": "r"
        }
      },
      "outputs": [
        {
          "name": "stdout",
          "output_type": "stream",
          "text": [
            "spc_tbl_ [1,795 × 9] (S3: spec_tbl_df/tbl_df/tbl/data.frame)\n",
            " $ Company                         : chr [1:1795] \"A. Morin\" \"A. Morin\" \"A. Morin\" \"A. Morin\" ...\n",
            " $ Specific_Bean_Origin_or_Bar_Name: chr [1:1795] \"Agua Grande\" \"Kpime\" \"Atsane\" \"Akata\" ...\n",
            " $ REF                             : num [1:1795] 1876 1676 1676 1680 1704 ...\n",
            " $ Review_Date                     : num [1:1795] 2016 2015 2015 2015 2015 ...\n",
            " $ Cocoa_Percentage                : chr [1:1795] \"63%\" \"70%\" \"70%\" \"70%\" ...\n",
            " $ Company_Location                : chr [1:1795] \"France\" \"France\" \"France\" \"France\" ...\n",
            " $ Rating                          : num [1:1795] 3.75 2.75 3 3.5 3.5 2.75 3.5 3.5 3.75 4 ...\n",
            " $ Bean_Type                       : chr [1:1795] \" \" \" \" \" \" \" \" ...\n",
            " $ Broad_Bean_Origin               : chr [1:1795] \"Sao Tome\" \"Togo\" \"Togo\" \"Togo\" ...\n",
            " - attr(*, \"spec\")=\n",
            "  .. cols(\n",
            "  ..   Company = \u001b[31mcol_character()\u001b[39m,\n",
            "  ..   Specific_Bean_Origin_or_Bar_Name = \u001b[31mcol_character()\u001b[39m,\n",
            "  ..   REF = \u001b[32mcol_double()\u001b[39m,\n",
            "  ..   Review_Date = \u001b[32mcol_double()\u001b[39m,\n",
            "  ..   Cocoa_Percentage = \u001b[31mcol_character()\u001b[39m,\n",
            "  ..   Company_Location = \u001b[31mcol_character()\u001b[39m,\n",
            "  ..   Rating = \u001b[32mcol_double()\u001b[39m,\n",
            "  ..   Bean_Type = \u001b[31mcol_character()\u001b[39m,\n",
            "  ..   Broad_Bean_Origin = \u001b[31mcol_character()\u001b[39m\n",
            "  .. )\n",
            " - attr(*, \"problems\")=<externalptr> \n"
          ]
        }
      ],
      "source": [
        "str(df)"
      ]
    },
    {
      "cell_type": "markdown",
      "metadata": {
        "id": "Lq5YSs8T2XWU"
      },
      "source": [
        "Usuń znak \"%\" w zmiennej procent Cocoa_Percentage - ustaw odpowiednio typ danej\n"
      ]
    },
    {
      "cell_type": "code",
      "execution_count": 6,
      "metadata": {
        "colab": {
          "base_uri": "https://localhost:8080/",
          "height": 129
        },
        "id": "PSHMbqBN2lmH",
        "outputId": "22126edf-c9bb-409f-a2b3-f53142a98f24",
        "vscode": {
          "languageId": "r"
        }
      },
      "outputs": [
        {
          "data": {
            "text/html": [
              "<table class=\"dataframe\">\n",
              "<caption>A tibble: 1 × 9</caption>\n",
              "<thead>\n",
              "\t<tr><th scope=col>Company</th><th scope=col>Specific_Bean_Origin_or_Bar_Name</th><th scope=col>REF</th><th scope=col>Review_Date</th><th scope=col>Cocoa_Percentage</th><th scope=col>Company_Location</th><th scope=col>Rating</th><th scope=col>Bean_Type</th><th scope=col>Broad_Bean_Origin</th></tr>\n",
              "\t<tr><th scope=col>&lt;chr&gt;</th><th scope=col>&lt;chr&gt;</th><th scope=col>&lt;dbl&gt;</th><th scope=col>&lt;dbl&gt;</th><th scope=col>&lt;dbl&gt;</th><th scope=col>&lt;chr&gt;</th><th scope=col>&lt;dbl&gt;</th><th scope=col>&lt;chr&gt;</th><th scope=col>&lt;chr&gt;</th></tr>\n",
              "</thead>\n",
              "<tbody>\n",
              "\t<tr><td>A. Morin</td><td>Agua Grande</td><td>1876</td><td>2016</td><td>63</td><td>France</td><td>3.75</td><td> </td><td>Sao Tome</td></tr>\n",
              "</tbody>\n",
              "</table>\n"
            ],
            "text/latex": [
              "A tibble: 1 × 9\n",
              "\\begin{tabular}{lllllllll}\n",
              " Company & Specific\\_Bean\\_Origin\\_or\\_Bar\\_Name & REF & Review\\_Date & Cocoa\\_Percentage & Company\\_Location & Rating & Bean\\_Type & Broad\\_Bean\\_Origin\\\\\n",
              " <chr> & <chr> & <dbl> & <dbl> & <dbl> & <chr> & <dbl> & <chr> & <chr>\\\\\n",
              "\\hline\n",
              "\t A. Morin & Agua Grande & 1876 & 2016 & 63 & France & 3.75 &   & Sao Tome\\\\\n",
              "\\end{tabular}\n"
            ],
            "text/markdown": [
              "\n",
              "A tibble: 1 × 9\n",
              "\n",
              "| Company &lt;chr&gt; | Specific_Bean_Origin_or_Bar_Name &lt;chr&gt; | REF &lt;dbl&gt; | Review_Date &lt;dbl&gt; | Cocoa_Percentage &lt;dbl&gt; | Company_Location &lt;chr&gt; | Rating &lt;dbl&gt; | Bean_Type &lt;chr&gt; | Broad_Bean_Origin &lt;chr&gt; |\n",
              "|---|---|---|---|---|---|---|---|---|\n",
              "| A. Morin | Agua Grande | 1876 | 2016 | 63 | France | 3.75 |   | Sao Tome |\n",
              "\n"
            ],
            "text/plain": [
              "  Company  Specific_Bean_Origin_or_Bar_Name REF  Review_Date Cocoa_Percentage\n",
              "1 A. Morin Agua Grande                      1876 2016        63              \n",
              "  Company_Location Rating Bean_Type Broad_Bean_Origin\n",
              "1 France           3.75             Sao Tome         "
            ]
          },
          "metadata": {},
          "output_type": "display_data"
        }
      ],
      "source": [
        "df$Cocoa_Percentage <- as.numeric(gsub(\"%\", \"\", df$Cocoa_Percentage))\n",
        "\n",
        "head(df, 1)"
      ]
    },
    {
      "cell_type": "markdown",
      "metadata": {
        "id": "IzM8nSuu2umj"
      },
      "source": [
        "Sprawdź ile jest braków w zbiorze danych"
      ]
    },
    {
      "cell_type": "code",
      "execution_count": 7,
      "metadata": {
        "colab": {
          "base_uri": "https://localhost:8080/",
          "height": 34
        },
        "id": "OqDo-TD921Pw",
        "outputId": "487ae891-3444-4cf9-c15e-69fd2674c218",
        "vscode": {
          "languageId": "r"
        }
      },
      "outputs": [
        {
          "data": {
            "text/html": [
              "2"
            ],
            "text/latex": [
              "2"
            ],
            "text/markdown": [
              "2"
            ],
            "text/plain": [
              "[1] 2"
            ]
          },
          "metadata": {},
          "output_type": "display_data"
        }
      ],
      "source": [
        "na_count_per_column <- sapply(df, function(x) sum(is.na(x)))\n",
        "\n",
        "total_na_count <- sum(na_count_per_column)\n",
        "\n",
        "total_na_count"
      ]
    },
    {
      "cell_type": "markdown",
      "metadata": {
        "id": "SYvYqZeq4pr_"
      },
      "source": [
        "Wyświetl nazwy kolumn, w których występują braki"
      ]
    },
    {
      "cell_type": "code",
      "execution_count": 8,
      "metadata": {
        "colab": {
          "base_uri": "https://localhost:8080/",
          "height": 34
        },
        "id": "s5uZTtPp4usP",
        "outputId": "6d81beb0-eca5-448b-901d-b3a9b8f2548f",
        "vscode": {
          "languageId": "r"
        }
      },
      "outputs": [
        {
          "data": {
            "text/html": [
              "<style>\n",
              ".list-inline {list-style: none; margin:0; padding: 0}\n",
              ".list-inline>li {display: inline-block}\n",
              ".list-inline>li:not(:last-child)::after {content: \"\\00b7\"; padding: 0 .5ex}\n",
              "</style>\n",
              "<ol class=list-inline><li>'Bean_Type'</li><li>'Broad_Bean_Origin'</li></ol>\n"
            ],
            "text/latex": [
              "\\begin{enumerate*}\n",
              "\\item 'Bean\\_Type'\n",
              "\\item 'Broad\\_Bean\\_Origin'\n",
              "\\end{enumerate*}\n"
            ],
            "text/markdown": [
              "1. 'Bean_Type'\n",
              "2. 'Broad_Bean_Origin'\n",
              "\n",
              "\n"
            ],
            "text/plain": [
              "[1] \"Bean_Type\"         \"Broad_Bean_Origin\""
            ]
          },
          "metadata": {},
          "output_type": "display_data"
        }
      ],
      "source": [
        "columns_with_na <- names(na_count_per_column)[na_count_per_column > 0]\n",
        "columns_with_na"
      ]
    },
    {
      "cell_type": "markdown",
      "metadata": {
        "id": "ga5zTJ7521zb"
      },
      "source": [
        "Usun cały wiersz, dla którego zmienna Broad_Bean_Origin zawiera brakujące dane"
      ]
    },
    {
      "cell_type": "code",
      "execution_count": 9,
      "metadata": {
        "id": "hhc9CJJ141k8",
        "vscode": {
          "languageId": "r"
        }
      },
      "outputs": [],
      "source": [
        "df_cleaned <- df[!is.na(df$Broad_Bean_Origin), ]"
      ]
    },
    {
      "cell_type": "markdown",
      "metadata": {
        "id": "XMkEUsJ3FDVR"
      },
      "source": [
        "Wykonaj tabelę liczności dla zmiennej Bean_Type"
      ]
    },
    {
      "cell_type": "code",
      "execution_count": 10,
      "metadata": {
        "colab": {
          "base_uri": "https://localhost:8080/",
          "height": 520
        },
        "id": "Or3y4IP0FIqj",
        "outputId": "e2338919-2d68-411d-f9f1-a47467855fd2",
        "vscode": {
          "languageId": "r"
        }
      },
      "outputs": [
        {
          "data": {
            "text/plain": [
              "\n",
              "                                           Amazon               Amazon mix \n",
              "                     887                        1                        2 \n",
              "             Amazon, ICS                  Beniano                    Blend \n",
              "                       2                        3                       41 \n",
              " Blend-Forastero,Criollo                    CCN51                  Criollo \n",
              "                       1                        1                      153 \n",
              "        Criollo (Amarru)     Criollo (Ocumare 61)     Criollo (Ocumare 67) \n",
              "                       2                        2                        1 \n",
              "    Criollo (Ocumare 77)        Criollo (Ocumare)      Criollo (Porcelana) \n",
              "                       1                        1                       10 \n",
              "          Criollo (Wild)               Criollo, +       Criollo, Forastero \n",
              "                       1                        1                        2 \n",
              "     Criollo, Trinitario                      EET                Forastero \n",
              "                      39                        3                       87 \n",
              "   Forastero (Amelonado)       Forastero (Arriba)   Forastero (Arriba) ASS \n",
              "                       1                       37                        6 \n",
              " Forastero (Arriba) ASSS      Forastero (Catongo)     Forastero (Nacional) \n",
              "                       1                        2                       52 \n",
              "   Forastero (Parazinho)   Forastero(Arriba, CCN)    Forastero, Trinitario \n",
              "                       8                        1                        1 \n",
              "                  Matina                 Nacional        Nacional (Arriba) \n",
              "                       3                        2                        3 \n",
              "              Trinitario Trinitario (85% Criollo)   Trinitario (Amelonado) \n",
              "                     419                        2                        1 \n",
              "    Trinitario (Scavina)      Trinitario, Criollo    Trinitario, Forastero \n",
              "                       1                        9                        2 \n",
              "    Trinitario, Nacional         Trinitario, TCGA \n",
              "                       1                        1 "
            ]
          },
          "metadata": {},
          "output_type": "display_data"
        }
      ],
      "source": [
        "bean_type_table <- table(df$Bean_Type)\n",
        "bean_type_table"
      ]
    },
    {
      "cell_type": "markdown",
      "metadata": {
        "id": "tfatqn6V4uSm"
      },
      "source": [
        "Spróbuj wyfiltrowac \"puste\" komórki dla zmiennej Bean_Type i zamienić je na NA\n"
      ]
    },
    {
      "cell_type": "code",
      "execution_count": 11,
      "metadata": {
        "colab": {
          "base_uri": "https://localhost:8080/",
          "height": 34
        },
        "id": "V2hFXpj5COtt",
        "outputId": "65a1d253-f70e-499b-d3ca-414d7accb3c0",
        "vscode": {
          "languageId": "r"
        }
      },
      "outputs": [
        {
          "data": {
            "text/html": [
              "2"
            ],
            "text/latex": [
              "2"
            ],
            "text/markdown": [
              "2"
            ],
            "text/plain": [
              "[1] 2"
            ]
          },
          "metadata": {},
          "output_type": "display_data"
        }
      ],
      "source": [
        "df$Bean_Type <- ifelse(df$Bean_Type == \" \" | df$Bean_Type == \"\"  | grepl(\"^\\\\s*$\", df$Bean_Type), NA, df$Bean_Type)\n",
        "\n",
        "#niestety nie działa\n",
        "\n",
        "na_count_per_column <- sapply(df, function(x) sum(is.na(x)))\n",
        "\n",
        "total_na_count <- sum(na_count_per_column)\n",
        "\n",
        "total_na_count"
      ]
    },
    {
      "cell_type": "markdown",
      "metadata": {
        "id": "GnZ0EyYdmSE6"
      },
      "source": [
        "Usuń kolumnę Bean_Type"
      ]
    },
    {
      "cell_type": "code",
      "execution_count": 12,
      "metadata": {
        "colab": {
          "base_uri": "https://localhost:8080/",
          "height": 129
        },
        "id": "ZOWZgglYCZ-M",
        "outputId": "f6f655a7-d445-446c-817f-77ae6c11a03c",
        "vscode": {
          "languageId": "r"
        }
      },
      "outputs": [
        {
          "data": {
            "text/html": [
              "<table class=\"dataframe\">\n",
              "<caption>A tibble: 1 × 8</caption>\n",
              "<thead>\n",
              "\t<tr><th scope=col>Company</th><th scope=col>Specific_Bean_Origin_or_Bar_Name</th><th scope=col>REF</th><th scope=col>Review_Date</th><th scope=col>Cocoa_Percentage</th><th scope=col>Company_Location</th><th scope=col>Rating</th><th scope=col>Broad_Bean_Origin</th></tr>\n",
              "\t<tr><th scope=col>&lt;chr&gt;</th><th scope=col>&lt;chr&gt;</th><th scope=col>&lt;dbl&gt;</th><th scope=col>&lt;dbl&gt;</th><th scope=col>&lt;dbl&gt;</th><th scope=col>&lt;chr&gt;</th><th scope=col>&lt;dbl&gt;</th><th scope=col>&lt;chr&gt;</th></tr>\n",
              "</thead>\n",
              "<tbody>\n",
              "\t<tr><td>A. Morin</td><td>Agua Grande</td><td>1876</td><td>2016</td><td>63</td><td>France</td><td>3.75</td><td>Sao Tome</td></tr>\n",
              "</tbody>\n",
              "</table>\n"
            ],
            "text/latex": [
              "A tibble: 1 × 8\n",
              "\\begin{tabular}{llllllll}\n",
              " Company & Specific\\_Bean\\_Origin\\_or\\_Bar\\_Name & REF & Review\\_Date & Cocoa\\_Percentage & Company\\_Location & Rating & Broad\\_Bean\\_Origin\\\\\n",
              " <chr> & <chr> & <dbl> & <dbl> & <dbl> & <chr> & <dbl> & <chr>\\\\\n",
              "\\hline\n",
              "\t A. Morin & Agua Grande & 1876 & 2016 & 63 & France & 3.75 & Sao Tome\\\\\n",
              "\\end{tabular}\n"
            ],
            "text/markdown": [
              "\n",
              "A tibble: 1 × 8\n",
              "\n",
              "| Company &lt;chr&gt; | Specific_Bean_Origin_or_Bar_Name &lt;chr&gt; | REF &lt;dbl&gt; | Review_Date &lt;dbl&gt; | Cocoa_Percentage &lt;dbl&gt; | Company_Location &lt;chr&gt; | Rating &lt;dbl&gt; | Broad_Bean_Origin &lt;chr&gt; |\n",
              "|---|---|---|---|---|---|---|---|\n",
              "| A. Morin | Agua Grande | 1876 | 2016 | 63 | France | 3.75 | Sao Tome |\n",
              "\n"
            ],
            "text/plain": [
              "  Company  Specific_Bean_Origin_or_Bar_Name REF  Review_Date Cocoa_Percentage\n",
              "1 A. Morin Agua Grande                      1876 2016        63              \n",
              "  Company_Location Rating Broad_Bean_Origin\n",
              "1 France           3.75   Sao Tome         "
            ]
          },
          "metadata": {},
          "output_type": "display_data"
        }
      ],
      "source": [
        "df$Bean_Type <- NULL\n",
        "\n",
        "head(df, 1)"
      ]
    },
    {
      "cell_type": "markdown",
      "metadata": {
        "id": "4nk6NV--CbAG"
      },
      "source": [
        "Dodaj do ramki danych nową kolumnę, która będzie zawierała informajce czy dana czekolada jest gorzka czy nie? W tym celu wykorzystaj zmienną Cocoa_Percentage."
      ]
    },
    {
      "cell_type": "code",
      "execution_count": 13,
      "metadata": {
        "colab": {
          "base_uri": "https://localhost:8080/",
          "height": 1000
        },
        "id": "S4yAXhvqFaUg",
        "outputId": "0395b7fb-d659-42a9-812b-fa0ef09e36a9",
        "vscode": {
          "languageId": "r"
        }
      },
      "outputs": [
        {
          "data": {
            "text/html": [
              "<table class=\"dataframe\">\n",
              "<caption>A tibble: 35 × 9</caption>\n",
              "<thead>\n",
              "\t<tr><th scope=col>Company</th><th scope=col>Specific_Bean_Origin_or_Bar_Name</th><th scope=col>REF</th><th scope=col>Review_Date</th><th scope=col>Cocoa_Percentage</th><th scope=col>Company_Location</th><th scope=col>Rating</th><th scope=col>Broad_Bean_Origin</th><th scope=col>is_bitter</th></tr>\n",
              "\t<tr><th scope=col>&lt;chr&gt;</th><th scope=col>&lt;chr&gt;</th><th scope=col>&lt;dbl&gt;</th><th scope=col>&lt;dbl&gt;</th><th scope=col>&lt;dbl&gt;</th><th scope=col>&lt;chr&gt;</th><th scope=col>&lt;dbl&gt;</th><th scope=col>&lt;chr&gt;</th><th scope=col>&lt;lgl&gt;</th></tr>\n",
              "</thead>\n",
              "<tbody>\n",
              "\t<tr><td>A. Morin          </td><td>Agua Grande                             </td><td>1876</td><td>2016</td><td>63</td><td>France     </td><td>3.75</td><td>Sao Tome        </td><td>FALSE</td></tr>\n",
              "\t<tr><td>A. Morin          </td><td>Kpime                                   </td><td>1676</td><td>2015</td><td>70</td><td>France     </td><td>2.75</td><td>Togo            </td><td>FALSE</td></tr>\n",
              "\t<tr><td>A. Morin          </td><td>Atsane                                  </td><td>1676</td><td>2015</td><td>70</td><td>France     </td><td>3.00</td><td>Togo            </td><td>FALSE</td></tr>\n",
              "\t<tr><td>A. Morin          </td><td>Akata                                   </td><td>1680</td><td>2015</td><td>70</td><td>France     </td><td>3.50</td><td>Togo            </td><td>FALSE</td></tr>\n",
              "\t<tr><td>A. Morin          </td><td>Quilla                                  </td><td>1704</td><td>2015</td><td>70</td><td>France     </td><td>3.50</td><td>Peru            </td><td>FALSE</td></tr>\n",
              "\t<tr><td>A. Morin          </td><td>Carenero                                </td><td>1315</td><td>2014</td><td>70</td><td>France     </td><td>2.75</td><td>Venezuela       </td><td>FALSE</td></tr>\n",
              "\t<tr><td>A. Morin          </td><td>Cuba                                    </td><td>1315</td><td>2014</td><td>70</td><td>France     </td><td>3.50</td><td>Cuba            </td><td>FALSE</td></tr>\n",
              "\t<tr><td>A. Morin          </td><td>Sur del Lago                            </td><td>1315</td><td>2014</td><td>70</td><td>France     </td><td>3.50</td><td>Venezuela       </td><td>FALSE</td></tr>\n",
              "\t<tr><td>A. Morin          </td><td>Puerto Cabello                          </td><td>1319</td><td>2014</td><td>70</td><td>France     </td><td>3.75</td><td>Venezuela       </td><td>FALSE</td></tr>\n",
              "\t<tr><td>A. Morin          </td><td>Pablino                                 </td><td>1319</td><td>2014</td><td>70</td><td>France     </td><td>4.00</td><td>Peru            </td><td>FALSE</td></tr>\n",
              "\t<tr><td>A. Morin          </td><td>Panama                                  </td><td>1011</td><td>2013</td><td>70</td><td>France     </td><td>2.75</td><td>Panama          </td><td>FALSE</td></tr>\n",
              "\t<tr><td>A. Morin          </td><td>Madagascar                              </td><td>1011</td><td>2013</td><td>70</td><td>France     </td><td>3.00</td><td>Madagascar      </td><td>FALSE</td></tr>\n",
              "\t<tr><td>A. Morin          </td><td>Brazil                                  </td><td>1011</td><td>2013</td><td>70</td><td>France     </td><td>3.25</td><td>Brazil          </td><td>FALSE</td></tr>\n",
              "\t<tr><td>A. Morin          </td><td>Equateur                                </td><td>1011</td><td>2013</td><td>70</td><td>France     </td><td>3.75</td><td>Ecuador         </td><td>FALSE</td></tr>\n",
              "\t<tr><td>A. Morin          </td><td>Colombie                                </td><td>1015</td><td>2013</td><td>70</td><td>France     </td><td>2.75</td><td>Colombia        </td><td>FALSE</td></tr>\n",
              "\t<tr><td>A. Morin          </td><td>Birmanie                                </td><td>1015</td><td>2013</td><td>70</td><td>France     </td><td>3.00</td><td>Burma           </td><td>FALSE</td></tr>\n",
              "\t<tr><td>A. Morin          </td><td>Papua New Guinea                        </td><td>1015</td><td>2013</td><td>70</td><td>France     </td><td>3.25</td><td>Papua New Guinea</td><td>FALSE</td></tr>\n",
              "\t<tr><td>A. Morin          </td><td>Chuao                                   </td><td>1015</td><td>2013</td><td>70</td><td>France     </td><td>4.00</td><td>Venezuela       </td><td>FALSE</td></tr>\n",
              "\t<tr><td>A. Morin          </td><td>Piura                                   </td><td>1019</td><td>2013</td><td>70</td><td>France     </td><td>3.25</td><td>Peru            </td><td>FALSE</td></tr>\n",
              "\t<tr><td>A. Morin          </td><td>Chanchamayo Province                    </td><td>1019</td><td>2013</td><td>70</td><td>France     </td><td>3.50</td><td>Peru            </td><td>FALSE</td></tr>\n",
              "\t<tr><td>A. Morin          </td><td>Chanchamayo Province                    </td><td>1019</td><td>2013</td><td>63</td><td>France     </td><td>4.00</td><td>Peru            </td><td>FALSE</td></tr>\n",
              "\t<tr><td>A. Morin          </td><td>Bolivia                                 </td><td> 797</td><td>2012</td><td>70</td><td>France     </td><td>3.50</td><td>Bolivia         </td><td>FALSE</td></tr>\n",
              "\t<tr><td>A. Morin          </td><td>Peru                                    </td><td> 797</td><td>2012</td><td>63</td><td>France     </td><td>3.75</td><td>Peru            </td><td>FALSE</td></tr>\n",
              "\t<tr><td>Acalli            </td><td>Chulucanas, El Platanal                 </td><td>1462</td><td>2015</td><td>70</td><td>U.S.A.     </td><td>3.75</td><td>Peru            </td><td>FALSE</td></tr>\n",
              "\t<tr><td>Acalli            </td><td>Tumbes, Norandino                       </td><td>1470</td><td>2015</td><td>70</td><td>U.S.A.     </td><td>3.75</td><td>Peru            </td><td>FALSE</td></tr>\n",
              "\t<tr><td>Adi               </td><td>Vanua Levu                              </td><td> 705</td><td>2011</td><td>60</td><td>Fiji       </td><td>2.75</td><td>Fiji            </td><td>FALSE</td></tr>\n",
              "\t<tr><td>Adi               </td><td>Vanua Levu, Toto-A                      </td><td> 705</td><td>2011</td><td>80</td><td>Fiji       </td><td>3.25</td><td>Fiji            </td><td> TRUE</td></tr>\n",
              "\t<tr><td>Adi               </td><td>Vanua Levu                              </td><td> 705</td><td>2011</td><td>88</td><td>Fiji       </td><td>3.50</td><td>Fiji            </td><td> TRUE</td></tr>\n",
              "\t<tr><td>Adi               </td><td>Vanua Levu, Ami-Ami-CA                  </td><td> 705</td><td>2011</td><td>72</td><td>Fiji       </td><td>3.50</td><td>Fiji            </td><td> TRUE</td></tr>\n",
              "\t<tr><td>Aequare (Gianduja)</td><td>Los Rios, Quevedo, Arriba               </td><td> 370</td><td>2009</td><td>55</td><td>Ecuador    </td><td>2.75</td><td>Ecuador         </td><td>FALSE</td></tr>\n",
              "\t<tr><td>Aequare (Gianduja)</td><td>Los Rios, Quevedo, Arriba               </td><td> 370</td><td>2009</td><td>70</td><td>Ecuador    </td><td>3.00</td><td>Ecuador         </td><td>FALSE</td></tr>\n",
              "\t<tr><td>Ah Cacao          </td><td>Tabasco                                 </td><td> 316</td><td>2009</td><td>70</td><td>Mexico     </td><td>3.00</td><td>Mexico          </td><td>FALSE</td></tr>\n",
              "\t<tr><td>Akesson's (Pralus)</td><td>Bali (west), Sukrama Family, Melaya area</td><td> 636</td><td>2011</td><td>75</td><td>Switzerland</td><td>3.75</td><td>Indonesia       </td><td> TRUE</td></tr>\n",
              "\t<tr><td>Akesson's (Pralus)</td><td>Madagascar, Ambolikapiky P.             </td><td> 502</td><td>2010</td><td>75</td><td>Switzerland</td><td>2.75</td><td>Madagascar      </td><td> TRUE</td></tr>\n",
              "\t<tr><td>Akesson's (Pralus)</td><td>Monte Alegre, D. Badero                 </td><td> 508</td><td>2010</td><td>75</td><td>Switzerland</td><td>2.75</td><td>Brazil          </td><td> TRUE</td></tr>\n",
              "</tbody>\n",
              "</table>\n"
            ],
            "text/latex": [
              "A tibble: 35 × 9\n",
              "\\begin{tabular}{lllllllll}\n",
              " Company & Specific\\_Bean\\_Origin\\_or\\_Bar\\_Name & REF & Review\\_Date & Cocoa\\_Percentage & Company\\_Location & Rating & Broad\\_Bean\\_Origin & is\\_bitter\\\\\n",
              " <chr> & <chr> & <dbl> & <dbl> & <dbl> & <chr> & <dbl> & <chr> & <lgl>\\\\\n",
              "\\hline\n",
              "\t A. Morin           & Agua Grande                              & 1876 & 2016 & 63 & France      & 3.75 & Sao Tome         & FALSE\\\\\n",
              "\t A. Morin           & Kpime                                    & 1676 & 2015 & 70 & France      & 2.75 & Togo             & FALSE\\\\\n",
              "\t A. Morin           & Atsane                                   & 1676 & 2015 & 70 & France      & 3.00 & Togo             & FALSE\\\\\n",
              "\t A. Morin           & Akata                                    & 1680 & 2015 & 70 & France      & 3.50 & Togo             & FALSE\\\\\n",
              "\t A. Morin           & Quilla                                   & 1704 & 2015 & 70 & France      & 3.50 & Peru             & FALSE\\\\\n",
              "\t A. Morin           & Carenero                                 & 1315 & 2014 & 70 & France      & 2.75 & Venezuela        & FALSE\\\\\n",
              "\t A. Morin           & Cuba                                     & 1315 & 2014 & 70 & France      & 3.50 & Cuba             & FALSE\\\\\n",
              "\t A. Morin           & Sur del Lago                             & 1315 & 2014 & 70 & France      & 3.50 & Venezuela        & FALSE\\\\\n",
              "\t A. Morin           & Puerto Cabello                           & 1319 & 2014 & 70 & France      & 3.75 & Venezuela        & FALSE\\\\\n",
              "\t A. Morin           & Pablino                                  & 1319 & 2014 & 70 & France      & 4.00 & Peru             & FALSE\\\\\n",
              "\t A. Morin           & Panama                                   & 1011 & 2013 & 70 & France      & 2.75 & Panama           & FALSE\\\\\n",
              "\t A. Morin           & Madagascar                               & 1011 & 2013 & 70 & France      & 3.00 & Madagascar       & FALSE\\\\\n",
              "\t A. Morin           & Brazil                                   & 1011 & 2013 & 70 & France      & 3.25 & Brazil           & FALSE\\\\\n",
              "\t A. Morin           & Equateur                                 & 1011 & 2013 & 70 & France      & 3.75 & Ecuador          & FALSE\\\\\n",
              "\t A. Morin           & Colombie                                 & 1015 & 2013 & 70 & France      & 2.75 & Colombia         & FALSE\\\\\n",
              "\t A. Morin           & Birmanie                                 & 1015 & 2013 & 70 & France      & 3.00 & Burma            & FALSE\\\\\n",
              "\t A. Morin           & Papua New Guinea                         & 1015 & 2013 & 70 & France      & 3.25 & Papua New Guinea & FALSE\\\\\n",
              "\t A. Morin           & Chuao                                    & 1015 & 2013 & 70 & France      & 4.00 & Venezuela        & FALSE\\\\\n",
              "\t A. Morin           & Piura                                    & 1019 & 2013 & 70 & France      & 3.25 & Peru             & FALSE\\\\\n",
              "\t A. Morin           & Chanchamayo Province                     & 1019 & 2013 & 70 & France      & 3.50 & Peru             & FALSE\\\\\n",
              "\t A. Morin           & Chanchamayo Province                     & 1019 & 2013 & 63 & France      & 4.00 & Peru             & FALSE\\\\\n",
              "\t A. Morin           & Bolivia                                  &  797 & 2012 & 70 & France      & 3.50 & Bolivia          & FALSE\\\\\n",
              "\t A. Morin           & Peru                                     &  797 & 2012 & 63 & France      & 3.75 & Peru             & FALSE\\\\\n",
              "\t Acalli             & Chulucanas, El Platanal                  & 1462 & 2015 & 70 & U.S.A.      & 3.75 & Peru             & FALSE\\\\\n",
              "\t Acalli             & Tumbes, Norandino                        & 1470 & 2015 & 70 & U.S.A.      & 3.75 & Peru             & FALSE\\\\\n",
              "\t Adi                & Vanua Levu                               &  705 & 2011 & 60 & Fiji        & 2.75 & Fiji             & FALSE\\\\\n",
              "\t Adi                & Vanua Levu, Toto-A                       &  705 & 2011 & 80 & Fiji        & 3.25 & Fiji             &  TRUE\\\\\n",
              "\t Adi                & Vanua Levu                               &  705 & 2011 & 88 & Fiji        & 3.50 & Fiji             &  TRUE\\\\\n",
              "\t Adi                & Vanua Levu, Ami-Ami-CA                   &  705 & 2011 & 72 & Fiji        & 3.50 & Fiji             &  TRUE\\\\\n",
              "\t Aequare (Gianduja) & Los Rios, Quevedo, Arriba                &  370 & 2009 & 55 & Ecuador     & 2.75 & Ecuador          & FALSE\\\\\n",
              "\t Aequare (Gianduja) & Los Rios, Quevedo, Arriba                &  370 & 2009 & 70 & Ecuador     & 3.00 & Ecuador          & FALSE\\\\\n",
              "\t Ah Cacao           & Tabasco                                  &  316 & 2009 & 70 & Mexico      & 3.00 & Mexico           & FALSE\\\\\n",
              "\t Akesson's (Pralus) & Bali (west), Sukrama Family, Melaya area &  636 & 2011 & 75 & Switzerland & 3.75 & Indonesia        &  TRUE\\\\\n",
              "\t Akesson's (Pralus) & Madagascar, Ambolikapiky P.              &  502 & 2010 & 75 & Switzerland & 2.75 & Madagascar       &  TRUE\\\\\n",
              "\t Akesson's (Pralus) & Monte Alegre, D. Badero                  &  508 & 2010 & 75 & Switzerland & 2.75 & Brazil           &  TRUE\\\\\n",
              "\\end{tabular}\n"
            ],
            "text/markdown": [
              "\n",
              "A tibble: 35 × 9\n",
              "\n",
              "| Company &lt;chr&gt; | Specific_Bean_Origin_or_Bar_Name &lt;chr&gt; | REF &lt;dbl&gt; | Review_Date &lt;dbl&gt; | Cocoa_Percentage &lt;dbl&gt; | Company_Location &lt;chr&gt; | Rating &lt;dbl&gt; | Broad_Bean_Origin &lt;chr&gt; | is_bitter &lt;lgl&gt; |\n",
              "|---|---|---|---|---|---|---|---|---|\n",
              "| A. Morin           | Agua Grande                              | 1876 | 2016 | 63 | France      | 3.75 | Sao Tome         | FALSE |\n",
              "| A. Morin           | Kpime                                    | 1676 | 2015 | 70 | France      | 2.75 | Togo             | FALSE |\n",
              "| A. Morin           | Atsane                                   | 1676 | 2015 | 70 | France      | 3.00 | Togo             | FALSE |\n",
              "| A. Morin           | Akata                                    | 1680 | 2015 | 70 | France      | 3.50 | Togo             | FALSE |\n",
              "| A. Morin           | Quilla                                   | 1704 | 2015 | 70 | France      | 3.50 | Peru             | FALSE |\n",
              "| A. Morin           | Carenero                                 | 1315 | 2014 | 70 | France      | 2.75 | Venezuela        | FALSE |\n",
              "| A. Morin           | Cuba                                     | 1315 | 2014 | 70 | France      | 3.50 | Cuba             | FALSE |\n",
              "| A. Morin           | Sur del Lago                             | 1315 | 2014 | 70 | France      | 3.50 | Venezuela        | FALSE |\n",
              "| A. Morin           | Puerto Cabello                           | 1319 | 2014 | 70 | France      | 3.75 | Venezuela        | FALSE |\n",
              "| A. Morin           | Pablino                                  | 1319 | 2014 | 70 | France      | 4.00 | Peru             | FALSE |\n",
              "| A. Morin           | Panama                                   | 1011 | 2013 | 70 | France      | 2.75 | Panama           | FALSE |\n",
              "| A. Morin           | Madagascar                               | 1011 | 2013 | 70 | France      | 3.00 | Madagascar       | FALSE |\n",
              "| A. Morin           | Brazil                                   | 1011 | 2013 | 70 | France      | 3.25 | Brazil           | FALSE |\n",
              "| A. Morin           | Equateur                                 | 1011 | 2013 | 70 | France      | 3.75 | Ecuador          | FALSE |\n",
              "| A. Morin           | Colombie                                 | 1015 | 2013 | 70 | France      | 2.75 | Colombia         | FALSE |\n",
              "| A. Morin           | Birmanie                                 | 1015 | 2013 | 70 | France      | 3.00 | Burma            | FALSE |\n",
              "| A. Morin           | Papua New Guinea                         | 1015 | 2013 | 70 | France      | 3.25 | Papua New Guinea | FALSE |\n",
              "| A. Morin           | Chuao                                    | 1015 | 2013 | 70 | France      | 4.00 | Venezuela        | FALSE |\n",
              "| A. Morin           | Piura                                    | 1019 | 2013 | 70 | France      | 3.25 | Peru             | FALSE |\n",
              "| A. Morin           | Chanchamayo Province                     | 1019 | 2013 | 70 | France      | 3.50 | Peru             | FALSE |\n",
              "| A. Morin           | Chanchamayo Province                     | 1019 | 2013 | 63 | France      | 4.00 | Peru             | FALSE |\n",
              "| A. Morin           | Bolivia                                  |  797 | 2012 | 70 | France      | 3.50 | Bolivia          | FALSE |\n",
              "| A. Morin           | Peru                                     |  797 | 2012 | 63 | France      | 3.75 | Peru             | FALSE |\n",
              "| Acalli             | Chulucanas, El Platanal                  | 1462 | 2015 | 70 | U.S.A.      | 3.75 | Peru             | FALSE |\n",
              "| Acalli             | Tumbes, Norandino                        | 1470 | 2015 | 70 | U.S.A.      | 3.75 | Peru             | FALSE |\n",
              "| Adi                | Vanua Levu                               |  705 | 2011 | 60 | Fiji        | 2.75 | Fiji             | FALSE |\n",
              "| Adi                | Vanua Levu, Toto-A                       |  705 | 2011 | 80 | Fiji        | 3.25 | Fiji             |  TRUE |\n",
              "| Adi                | Vanua Levu                               |  705 | 2011 | 88 | Fiji        | 3.50 | Fiji             |  TRUE |\n",
              "| Adi                | Vanua Levu, Ami-Ami-CA                   |  705 | 2011 | 72 | Fiji        | 3.50 | Fiji             |  TRUE |\n",
              "| Aequare (Gianduja) | Los Rios, Quevedo, Arriba                |  370 | 2009 | 55 | Ecuador     | 2.75 | Ecuador          | FALSE |\n",
              "| Aequare (Gianduja) | Los Rios, Quevedo, Arriba                |  370 | 2009 | 70 | Ecuador     | 3.00 | Ecuador          | FALSE |\n",
              "| Ah Cacao           | Tabasco                                  |  316 | 2009 | 70 | Mexico      | 3.00 | Mexico           | FALSE |\n",
              "| Akesson's (Pralus) | Bali (west), Sukrama Family, Melaya area |  636 | 2011 | 75 | Switzerland | 3.75 | Indonesia        |  TRUE |\n",
              "| Akesson's (Pralus) | Madagascar, Ambolikapiky P.              |  502 | 2010 | 75 | Switzerland | 2.75 | Madagascar       |  TRUE |\n",
              "| Akesson's (Pralus) | Monte Alegre, D. Badero                  |  508 | 2010 | 75 | Switzerland | 2.75 | Brazil           |  TRUE |\n",
              "\n"
            ],
            "text/plain": [
              "   Company            Specific_Bean_Origin_or_Bar_Name         REF  Review_Date\n",
              "1  A. Morin           Agua Grande                              1876 2016       \n",
              "2  A. Morin           Kpime                                    1676 2015       \n",
              "3  A. Morin           Atsane                                   1676 2015       \n",
              "4  A. Morin           Akata                                    1680 2015       \n",
              "5  A. Morin           Quilla                                   1704 2015       \n",
              "6  A. Morin           Carenero                                 1315 2014       \n",
              "7  A. Morin           Cuba                                     1315 2014       \n",
              "8  A. Morin           Sur del Lago                             1315 2014       \n",
              "9  A. Morin           Puerto Cabello                           1319 2014       \n",
              "10 A. Morin           Pablino                                  1319 2014       \n",
              "11 A. Morin           Panama                                   1011 2013       \n",
              "12 A. Morin           Madagascar                               1011 2013       \n",
              "13 A. Morin           Brazil                                   1011 2013       \n",
              "14 A. Morin           Equateur                                 1011 2013       \n",
              "15 A. Morin           Colombie                                 1015 2013       \n",
              "16 A. Morin           Birmanie                                 1015 2013       \n",
              "17 A. Morin           Papua New Guinea                         1015 2013       \n",
              "18 A. Morin           Chuao                                    1015 2013       \n",
              "19 A. Morin           Piura                                    1019 2013       \n",
              "20 A. Morin           Chanchamayo Province                     1019 2013       \n",
              "21 A. Morin           Chanchamayo Province                     1019 2013       \n",
              "22 A. Morin           Bolivia                                   797 2012       \n",
              "23 A. Morin           Peru                                      797 2012       \n",
              "24 Acalli             Chulucanas, El Platanal                  1462 2015       \n",
              "25 Acalli             Tumbes, Norandino                        1470 2015       \n",
              "26 Adi                Vanua Levu                                705 2011       \n",
              "27 Adi                Vanua Levu, Toto-A                        705 2011       \n",
              "28 Adi                Vanua Levu                                705 2011       \n",
              "29 Adi                Vanua Levu, Ami-Ami-CA                    705 2011       \n",
              "30 Aequare (Gianduja) Los Rios, Quevedo, Arriba                 370 2009       \n",
              "31 Aequare (Gianduja) Los Rios, Quevedo, Arriba                 370 2009       \n",
              "32 Ah Cacao           Tabasco                                   316 2009       \n",
              "33 Akesson's (Pralus) Bali (west), Sukrama Family, Melaya area  636 2011       \n",
              "34 Akesson's (Pralus) Madagascar, Ambolikapiky P.               502 2010       \n",
              "35 Akesson's (Pralus) Monte Alegre, D. Badero                   508 2010       \n",
              "   Cocoa_Percentage Company_Location Rating Broad_Bean_Origin is_bitter\n",
              "1  63               France           3.75   Sao Tome          FALSE    \n",
              "2  70               France           2.75   Togo              FALSE    \n",
              "3  70               France           3.00   Togo              FALSE    \n",
              "4  70               France           3.50   Togo              FALSE    \n",
              "5  70               France           3.50   Peru              FALSE    \n",
              "6  70               France           2.75   Venezuela         FALSE    \n",
              "7  70               France           3.50   Cuba              FALSE    \n",
              "8  70               France           3.50   Venezuela         FALSE    \n",
              "9  70               France           3.75   Venezuela         FALSE    \n",
              "10 70               France           4.00   Peru              FALSE    \n",
              "11 70               France           2.75   Panama            FALSE    \n",
              "12 70               France           3.00   Madagascar        FALSE    \n",
              "13 70               France           3.25   Brazil            FALSE    \n",
              "14 70               France           3.75   Ecuador           FALSE    \n",
              "15 70               France           2.75   Colombia          FALSE    \n",
              "16 70               France           3.00   Burma             FALSE    \n",
              "17 70               France           3.25   Papua New Guinea  FALSE    \n",
              "18 70               France           4.00   Venezuela         FALSE    \n",
              "19 70               France           3.25   Peru              FALSE    \n",
              "20 70               France           3.50   Peru              FALSE    \n",
              "21 63               France           4.00   Peru              FALSE    \n",
              "22 70               France           3.50   Bolivia           FALSE    \n",
              "23 63               France           3.75   Peru              FALSE    \n",
              "24 70               U.S.A.           3.75   Peru              FALSE    \n",
              "25 70               U.S.A.           3.75   Peru              FALSE    \n",
              "26 60               Fiji             2.75   Fiji              FALSE    \n",
              "27 80               Fiji             3.25   Fiji               TRUE    \n",
              "28 88               Fiji             3.50   Fiji               TRUE    \n",
              "29 72               Fiji             3.50   Fiji               TRUE    \n",
              "30 55               Ecuador          2.75   Ecuador           FALSE    \n",
              "31 70               Ecuador          3.00   Ecuador           FALSE    \n",
              "32 70               Mexico           3.00   Mexico            FALSE    \n",
              "33 75               Switzerland      3.75   Indonesia          TRUE    \n",
              "34 75               Switzerland      2.75   Madagascar         TRUE    \n",
              "35 75               Switzerland      2.75   Brazil             TRUE    "
            ]
          },
          "metadata": {},
          "output_type": "display_data"
        }
      ],
      "source": [
        "df$is_bitter <- df$Cocoa_Percentage > 70\n",
        "head(df, 35)"
      ]
    },
    {
      "cell_type": "markdown",
      "metadata": {
        "id": "PV-xtco3J4JG"
      },
      "source": [
        "## Zapisywanie plików"
      ]
    },
    {
      "cell_type": "markdown",
      "metadata": {
        "id": "OHMjXpsqIP3j"
      },
      "source": [
        "Wyczyszczoną ramkę danych zapisz do pliku csv o nazw new_cocoa_imie_nazwisko.csv. Pobierz plik na dysk i dołącz do zadania na upel razem z plikiem zaiwerającym wszystkie przeprowadzone analizy (R_Zadanie_1_imię_nazwisko.jpynb)"
      ]
    },
    {
      "cell_type": "code",
      "execution_count": 14,
      "metadata": {
        "id": "BdaaQ-62F2Fx",
        "vscode": {
          "languageId": "r"
        }
      },
      "outputs": [],
      "source": [
        "write.csv(df, \"new_cocoa_dominik_sieron.csv\", row.names = FALSE)"
      ]
    }
  ],
  "metadata": {
    "colab": {
      "provenance": []
    },
    "kernelspec": {
      "display_name": "R",
      "language": "R",
      "name": "ir"
    },
    "language_info": {
      "codemirror_mode": "r",
      "file_extension": ".r",
      "mimetype": "text/x-r-source",
      "name": "R",
      "pygments_lexer": "r",
      "version": "4.3.3"
    }
  },
  "nbformat": 4,
  "nbformat_minor": 0
}
