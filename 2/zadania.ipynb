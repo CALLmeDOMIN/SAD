{
 "cells": [
  {
   "cell_type": "code",
   "execution_count": 15,
   "metadata": {},
   "outputs": [],
   "source": [
    "import numpy as np\n",
    "from scipy import stats"
   ]
  },
  {
   "cell_type": "markdown",
   "metadata": {},
   "source": [
    "# Zadanie 1\n",
    "Zmierzono czas pracy (w godzinach) piętnastu wylosowanych bateryjek radiowych i\n",
    "otrzymano następujące wyniki: 35,34, 36,26, 30,54, 38,2, 37,59, 39,18, 33,16, 34,23,\n",
    "27,9, 36,33, 32,39, 34,89, 35,7, 31,99, 34,03.\n",
    "Zakładając, że czas pracy bateryjek ma rozkład normalny sprawdź na poziomie istotności 0,05\n",
    "czy przeciętny czas pracy jest równy 35?"
   ]
  },
  {
   "cell_type": "markdown",
   "metadata": {},
   "source": [
    "**H0:** Średni czas pracy baterii wynosi 35h\n",
    "\n",
    "**H1:** Średni czas pracy baterii różni się od 35h\n",
    "\n",
    "Test **ttest_1samp** jest odpowiedni, bo mamy tylko jedną próbkę i chcemy porównać ją z wartością oczekiwaną\n",
    "\n",
    "**alfa** = 0.05"
   ]
  },
  {
   "cell_type": "code",
   "execution_count": 16,
   "metadata": {},
   "outputs": [
    {
     "name": "stdout",
     "output_type": "stream",
     "text": [
      "t_statistic = -0.625790453948021\n",
      "p_value = 0.5415206438042331\n",
      "Nie ma podstaw do odrzucenia hipotezy zerowej - średnia czasu życia baterii wynosi 35 godzin\n"
     ]
    }
   ],
   "source": [
    "# Czas pracy baterii w godzinach\n",
    "battery_lifetimes = np.array([35.34, 36.26, 30.54, 38.2, 37.59, 39.18, 33.16, 34.23,\n",
    "                              27.9, 36.33, 32.39, 34.89, 35.7, 31.99, 34.03])\n",
    "\n",
    "mu = 35\n",
    "\n",
    "t_statistic, p_value = stats.ttest_1samp(battery_lifetimes, mu)\n",
    "\n",
    "print(f't_statistic = {t_statistic}\\np_value = {p_value}')\n",
    "\n",
    "if p_value < 0.05:\n",
    "    print('Odrzucamy hipotezę zerową - średnia czasu życia baterii różna niż 35 godzin')\n",
    "else:\n",
    "    print('Nie ma podstaw do odrzucenia hipotezy zerowej - średnia czasu życia baterii wynosi 35 godzin')"
   ]
  },
  {
   "cell_type": "markdown",
   "metadata": {},
   "source": [
    "Ponieważ: **p>α**, zatem **nie ma podstaw do odrzucenia** hipotezy zerowej. Oznacza to, że średnia czasu życia baterii **nie różni się** istotnie od 35 godzin.\n",
    "\n",
    "Jest możliwość popełnienia **błedu II rodzaju**, przez nieodrzucenie hopotezy zerowej, chociaż jest fałszywa."
   ]
  },
  {
   "cell_type": "markdown",
   "metadata": {},
   "source": [
    "# Zadanie 2\n",
    "W celu zmniejszenia zużycia paliwa Komisja Doradcza Przewozów Morskich zleciła\n",
    "kompaniom dalekomorskim zredukowanie prędkości statków do 17 węzłów. Jedna z\n",
    "kompanii, której statki pływają z reguły z prędkością od 18,5 do 19,8 węzłów przy dziennym\n",
    "średnim zużyciu paliwa w wysokości 127,7 t, sprawdziła rejestr rejsów i odnalazła 5 takich\n",
    "rejsów, dla których średnia prędkość wynosiła zaledwie 17 węzłów. Dzienne zużycie paliwa w\n",
    "czasie tych rejsów wynosiło: 101,1; 105,7; 102,6; 113,4; 98,1 t. Zakładając, że dzienne\n",
    "zużycie paliwa ma rozkład normalny, czy dane te potwierdzają słuszność Komisji, że obniżenie\n",
    "prędkości do 17 węzłów zmniejszy zużycie paliwa poniżej 127,7, przy poziomie istotności\n",
    "0,01?"
   ]
  },
  {
   "cell_type": "markdown",
   "metadata": {},
   "source": [
    "**H0:** Średnie zużycie paliwa wynosi 127,7 t\n",
    "\n",
    "**H1:** Średnie zużycie paliwa jest mniejsze niż 127,7 t\n",
    "\n",
    "Test **ttest_1samp** jest odpowiedni, bo mamy tylko jedną próbkę i chcemy porównać ją z wartością oczekiwaną\n",
    "\n",
    "**alfa** = 0.01"
   ]
  },
  {
   "cell_type": "code",
   "execution_count": 17,
   "metadata": {},
   "outputs": [
    {
     "name": "stdout",
     "output_type": "stream",
     "text": [
      "t_statistic = -9.010634513141104\n",
      "p_value = 0.00042000583374171395\n",
      "Odrzucamy hipotezę zerową. Średnie zużycie paliwa jest mniejsze niż 127.7 t.\n"
     ]
    }
   ],
   "source": [
    "# Dzienne zużycie paliwa dla rejsów z prędkością 17 węzłów\n",
    "fuel_consumption = np.array([101.1, 105.7, 102.6, 113.4, 98.1])\n",
    "\n",
    "mu = 127.7\n",
    "\n",
    "t_statistic, p_value = stats.ttest_1samp(fuel_consumption, mu, alternative='less')\n",
    "\n",
    "print(f't_statistic = {t_statistic}\\np_value = {p_value}')\n",
    "\n",
    "if p_value < 0.01 and t_statistic < 0:\n",
    "    print(\"Odrzucamy hipotezę zerową. Średnie zużycie paliwa jest mniejsze niż 127.7 t.\")\n",
    "else:\n",
    "    print(\"Nie możemy odrzucić hipotezy zerowej. Średnie zużycie paliwa może wynosić 127.7 t lub więcej.\")"
   ]
  },
  {
   "cell_type": "markdown",
   "metadata": {},
   "source": [
    "Ponieważ: **p<α**, zatem **odrzucamy** hipotezę zerową. Oznacza to, że średnie zużycie paliwa **jest mniejsze** niż 127.7 t.\n",
    "\n",
    "Jest możliwość popełnienia **błedu I rodzaju**, przez odrzucenie hopotezy zerowej, chociaż jest prawdziwa."
   ]
  },
  {
   "cell_type": "markdown",
   "metadata": {},
   "source": [
    "# Zadanie 3\n",
    "Wytrzymałość na ciśnienie wewnętrzne jest ważną charakterystyką jakościową szkła butelek.\n",
    "Pewna rozlewnia chce zamówić butelki, których średnia wytrzymałość przewyższa 1.20 N/mm2.\n",
    "Pobrano próbę losową 20 butelek, które następnie umieszczono w maszynie hydrostatycznej,\n",
    "zwiększając ciśnienie aż do zniszczenia butelki i otrzymano następujące wyniki (w N/mm2):\n",
    "1.36, 1.14, 1.27, 1.15, 1.20, 1.29, 1.27, 1.18, 1.23, 1.36, 1.38, 1.37, 1.30, 1.21, 1.33, 1.28, 1.32,\n",
    "1.29, 1.33, 1.25.\n",
    "Zbadaj, czy na poziomie istotności równym 0,05 można przyjąć założenie o jego normalności\n",
    "rozkładu?"
   ]
  },
  {
   "cell_type": "markdown",
   "metadata": {},
   "source": [
    "**H0:** Dane mają rozkład normalny\n",
    "\n",
    "**H1:** Dane nie mają rozkładu normalnego\n",
    "\n",
    "Test **Shapiro-Wilka** jest odpowiedni, bo mamy tylko jedną próbkę i chcemy sprawdzić, czy ma ona rozkład normalny\n",
    "\n",
    "**alfa** = 0.05"
   ]
  },
  {
   "cell_type": "code",
   "execution_count": 18,
   "metadata": {},
   "outputs": [
    {
     "name": "stdout",
     "output_type": "stream",
     "text": [
      "W = 0.9545875244093263\n",
      "p_value = 0.44210907987875553\n",
      "Nie ma podstaw do odrzucenia hipotezy zerowej. Dane mogą mieć rozkład normalny.\n"
     ]
    }
   ],
   "source": [
    "bottle_max_endurance = np.array([1.36, 1.14, 1.27, 1.15, 1.20, 1.29, 1.27, 1.18, 1.23, 1.36, 1.38, 1.37, 1.30, 1.21, 1.33, 1.28, 1.32,\n",
    "                                1.29, 1.33, 1.25])\n",
    "\n",
    "W, p_value = stats.shapiro(bottle_max_endurance)\n",
    "\n",
    "print(f'W = {W}\\np_value = {p_value}')\n",
    "\n",
    "if p_value < 0.05:\n",
    "    print(\"Odrzucamy hipotezę zerową. Dane nie mają rozkładu normalnego.\")\n",
    "else:\n",
    "    print(\"Nie ma podstaw do odrzucenia hipotezy zerowej. Dane mogą mieć rozkład normalny.\")"
   ]
  },
  {
   "cell_type": "markdown",
   "metadata": {},
   "source": [
    "Ponieważ: **p>α**, zatem **nie ma podstaw do odrzucenia** hipotezy zerowej. Oznacza to, że rozkład zmiennej losowej **jest normalny**.\n",
    "\n",
    "Jest możliwość popełnienia **błedu II rodzaju**, przez nieodrzucenie hopotezy zerowej, chociaż jest fałszywa."
   ]
  },
  {
   "cell_type": "markdown",
   "metadata": {},
   "source": [
    "# Zadanie 4\n",
    "Dane przedstawiają emisję zanieczyszczeń powietrza pyłami polimerów (w t) pochodzącymi\n",
    "z kilku zakładów szczególnie uciążliwych dla wybranego województwa: w roku I oraz\n",
    "5 lat później, w roku II.\n",
    "Rok I 220 185 270 285 200 295 255 190 225 230\n",
    "Rok II 190 175 215 260 215 195 260 150 155 175\n",
    "Na poziomie istotności 0,05 należy zweryfikować hipotezę, że nastąpił istotny spadek emisji\n",
    "pyłów w tych zakładach."
   ]
  },
  {
   "cell_type": "markdown",
   "metadata": {},
   "source": [
    "**H0:** Średnia emisja pyłów jest równa w obu latach\n",
    "\n",
    "**H1:** Średnia emisja pyłów w drugim roku jest mniejsza niż w pierwszym\n",
    "\n",
    "Test **ttest_rel** jest odpowiedni, bo mamy dwie powiązane próbki i chcemy porównać ich średnie\n",
    "\n",
    "**alfa** = 0.05"
   ]
  },
  {
   "cell_type": "code",
   "execution_count": 19,
   "metadata": {},
   "outputs": [
    {
     "name": "stdout",
     "output_type": "stream",
     "text": [
      "t_statistic = 3.286273677873095\n",
      "p_value = 0.004717146628580168\n",
      "Odrzucamy hipotezę zerową. Średnia emisja pyłów w drugim roku jest mniejsza niż w pierwszym.\n"
     ]
    }
   ],
   "source": [
    "first_year = np.array([220, 185, 270, 285, 200, 295, 255, 190, 225, 230])\n",
    "second_year = np.array([190, 175, 215, 260, 215, 195, 260, 150, 155, 175])\n",
    "\n",
    "t_statistic, p_value = stats.ttest_rel(first_year, second_year, alternative='greater')\n",
    "\n",
    "print(f't_statistic = {t_statistic}\\np_value = {p_value}')\n",
    "\n",
    "if p_value < 0.05 and t_statistic > 0:\n",
    "    print(\"Odrzucamy hipotezę zerową. Średnia emisja pyłów w drugim roku jest mniejsza niż w pierwszym.\")\n",
    "else:\n",
    "    print(\"Nie ma podstaw do odrzucenia hipotezy zerowej. Średnia emisja pyłów może być równa w obu latach lub większa w drugim roku.\")"
   ]
  },
  {
   "cell_type": "markdown",
   "metadata": {},
   "source": [
    "Ponieważ: **p<α**, zatem **odrzucamy** hipotezę zerową. Oznacza to, że Średnia emisja pyłów w drugim roku **jest mniejsza** niż w pierwszym.\n",
    "\n",
    "Jest możliwość popełnienia **błedu I rodzaju**, przez odrzucenie hopotezy zerowej, chociaż jest prawdziwa."
   ]
  }
 ],
 "metadata": {
  "kernelspec": {
   "display_name": "Python 3",
   "language": "python",
   "name": "python3"
  },
  "language_info": {
   "codemirror_mode": {
    "name": "ipython",
    "version": 3
   },
   "file_extension": ".py",
   "mimetype": "text/x-python",
   "name": "python",
   "nbconvert_exporter": "python",
   "pygments_lexer": "ipython3",
   "version": "3.12.2"
  }
 },
 "nbformat": 4,
 "nbformat_minor": 2
}
